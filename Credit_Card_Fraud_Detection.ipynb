{
  "nbformat": 4,
  "nbformat_minor": 0,
  "metadata": {
    "colab": {
      "provenance": [],
      "authorship_tag": "ABX9TyPRmUv4ldnqj1U04NfUDmhV",
      "include_colab_link": true
    },
    "kernelspec": {
      "name": "python3",
      "display_name": "Python 3"
    },
    "language_info": {
      "name": "python"
    }
  },
  "cells": [
    {
      "cell_type": "markdown",
      "metadata": {
        "id": "view-in-github",
        "colab_type": "text"
      },
      "source": [
        "<a href=\"https://colab.research.google.com/github/troncosofranco/IoT-Spark/blob/main/Credit_Card_Fraud_Detection.ipynb\" target=\"_parent\"><img src=\"https://colab.research.google.com/assets/colab-badge.svg\" alt=\"Open In Colab\"/></a>"
      ]
    },
    {
      "cell_type": "markdown",
      "source": [
        "#1. Import Modules"
      ],
      "metadata": {
        "id": "Prz2jp2J_3zB"
      }
    },
    {
      "cell_type": "code",
      "execution_count": 1,
      "metadata": {
        "id": "y9dcZFeo-GpC"
      },
      "outputs": [],
      "source": [
        "%matplotlib inline\n",
        "import numpy as np\n",
        "import pandas as pd\n",
        "import matplotlib.pyplot as plt\n",
        "from pylab import rcParams\n",
        "rcParams['figure.figsize'] = 12, 6"
      ]
    },
    {
      "cell_type": "markdown",
      "source": [
        "#2. Load Data\n"
      ],
      "metadata": {
        "id": "LX10Q3UTQwSg"
      }
    },
    {
      "cell_type": "code",
      "source": [
        "df = pd.read_csv('creditcard.csv')"
      ],
      "metadata": {
        "id": "YG6tERNiQyL0"
      },
      "execution_count": 2,
      "outputs": []
    },
    {
      "cell_type": "code",
      "source": [
        "df.shape\n",
        "df.head()\n",
        "df.describe()"
      ],
      "metadata": {
        "colab": {
          "base_uri": "https://localhost:8080/",
          "height": 393
        },
        "id": "9nKN1X7aRLli",
        "outputId": "85c3b67d-1e00-4ee8-8bb0-1e9b5a64f684"
      },
      "execution_count": 3,
      "outputs": [
        {
          "output_type": "execute_result",
          "data": {
            "text/plain": [
              "                Time            V1            V2            V3            V4  \\\n",
              "count  284807.000000  2.848070e+05  2.848070e+05  2.848070e+05  2.848070e+05   \n",
              "mean    94813.859575  1.168375e-15  3.416908e-16 -1.379537e-15  2.074095e-15   \n",
              "std     47488.145955  1.958696e+00  1.651309e+00  1.516255e+00  1.415869e+00   \n",
              "min         0.000000 -5.640751e+01 -7.271573e+01 -4.832559e+01 -5.683171e+00   \n",
              "25%     54201.500000 -9.203734e-01 -5.985499e-01 -8.903648e-01 -8.486401e-01   \n",
              "50%     84692.000000  1.810880e-02  6.548556e-02  1.798463e-01 -1.984653e-02   \n",
              "75%    139320.500000  1.315642e+00  8.037239e-01  1.027196e+00  7.433413e-01   \n",
              "max    172792.000000  2.454930e+00  2.205773e+01  9.382558e+00  1.687534e+01   \n",
              "\n",
              "                 V5            V6            V7            V8            V9  \\\n",
              "count  2.848070e+05  2.848070e+05  2.848070e+05  2.848070e+05  2.848070e+05   \n",
              "mean   9.604066e-16  1.487313e-15 -5.556467e-16  1.213481e-16 -2.406331e-15   \n",
              "std    1.380247e+00  1.332271e+00  1.237094e+00  1.194353e+00  1.098632e+00   \n",
              "min   -1.137433e+02 -2.616051e+01 -4.355724e+01 -7.321672e+01 -1.343407e+01   \n",
              "25%   -6.915971e-01 -7.682956e-01 -5.540759e-01 -2.086297e-01 -6.430976e-01   \n",
              "50%   -5.433583e-02 -2.741871e-01  4.010308e-02  2.235804e-02 -5.142873e-02   \n",
              "75%    6.119264e-01  3.985649e-01  5.704361e-01  3.273459e-01  5.971390e-01   \n",
              "max    3.480167e+01  7.330163e+01  1.205895e+02  2.000721e+01  1.559499e+01   \n",
              "\n",
              "       ...           V21           V22           V23           V24  \\\n",
              "count  ...  2.848070e+05  2.848070e+05  2.848070e+05  2.848070e+05   \n",
              "mean   ...  1.654067e-16 -3.568593e-16  2.578648e-16  4.473266e-15   \n",
              "std    ...  7.345240e-01  7.257016e-01  6.244603e-01  6.056471e-01   \n",
              "min    ... -3.483038e+01 -1.093314e+01 -4.480774e+01 -2.836627e+00   \n",
              "25%    ... -2.283949e-01 -5.423504e-01 -1.618463e-01 -3.545861e-01   \n",
              "50%    ... -2.945017e-02  6.781943e-03 -1.119293e-02  4.097606e-02   \n",
              "75%    ...  1.863772e-01  5.285536e-01  1.476421e-01  4.395266e-01   \n",
              "max    ...  2.720284e+01  1.050309e+01  2.252841e+01  4.584549e+00   \n",
              "\n",
              "                V25           V26           V27           V28         Amount  \\\n",
              "count  2.848070e+05  2.848070e+05  2.848070e+05  2.848070e+05  284807.000000   \n",
              "mean   5.340915e-16  1.683437e-15 -3.660091e-16 -1.227390e-16      88.349619   \n",
              "std    5.212781e-01  4.822270e-01  4.036325e-01  3.300833e-01     250.120109   \n",
              "min   -1.029540e+01 -2.604551e+00 -2.256568e+01 -1.543008e+01       0.000000   \n",
              "25%   -3.171451e-01 -3.269839e-01 -7.083953e-02 -5.295979e-02       5.600000   \n",
              "50%    1.659350e-02 -5.213911e-02  1.342146e-03  1.124383e-02      22.000000   \n",
              "75%    3.507156e-01  2.409522e-01  9.104512e-02  7.827995e-02      77.165000   \n",
              "max    7.519589e+00  3.517346e+00  3.161220e+01  3.384781e+01   25691.160000   \n",
              "\n",
              "               Class  \n",
              "count  284807.000000  \n",
              "mean        0.001727  \n",
              "std         0.041527  \n",
              "min         0.000000  \n",
              "25%         0.000000  \n",
              "50%         0.000000  \n",
              "75%         0.000000  \n",
              "max         1.000000  \n",
              "\n",
              "[8 rows x 31 columns]"
            ],
            "text/html": [
              "\n",
              "  <div id=\"df-66792b9e-cb67-4555-ae5d-55fd8534f21f\">\n",
              "    <div class=\"colab-df-container\">\n",
              "      <div>\n",
              "<style scoped>\n",
              "    .dataframe tbody tr th:only-of-type {\n",
              "        vertical-align: middle;\n",
              "    }\n",
              "\n",
              "    .dataframe tbody tr th {\n",
              "        vertical-align: top;\n",
              "    }\n",
              "\n",
              "    .dataframe thead th {\n",
              "        text-align: right;\n",
              "    }\n",
              "</style>\n",
              "<table border=\"1\" class=\"dataframe\">\n",
              "  <thead>\n",
              "    <tr style=\"text-align: right;\">\n",
              "      <th></th>\n",
              "      <th>Time</th>\n",
              "      <th>V1</th>\n",
              "      <th>V2</th>\n",
              "      <th>V3</th>\n",
              "      <th>V4</th>\n",
              "      <th>V5</th>\n",
              "      <th>V6</th>\n",
              "      <th>V7</th>\n",
              "      <th>V8</th>\n",
              "      <th>V9</th>\n",
              "      <th>...</th>\n",
              "      <th>V21</th>\n",
              "      <th>V22</th>\n",
              "      <th>V23</th>\n",
              "      <th>V24</th>\n",
              "      <th>V25</th>\n",
              "      <th>V26</th>\n",
              "      <th>V27</th>\n",
              "      <th>V28</th>\n",
              "      <th>Amount</th>\n",
              "      <th>Class</th>\n",
              "    </tr>\n",
              "  </thead>\n",
              "  <tbody>\n",
              "    <tr>\n",
              "      <th>count</th>\n",
              "      <td>284807.000000</td>\n",
              "      <td>2.848070e+05</td>\n",
              "      <td>2.848070e+05</td>\n",
              "      <td>2.848070e+05</td>\n",
              "      <td>2.848070e+05</td>\n",
              "      <td>2.848070e+05</td>\n",
              "      <td>2.848070e+05</td>\n",
              "      <td>2.848070e+05</td>\n",
              "      <td>2.848070e+05</td>\n",
              "      <td>2.848070e+05</td>\n",
              "      <td>...</td>\n",
              "      <td>2.848070e+05</td>\n",
              "      <td>2.848070e+05</td>\n",
              "      <td>2.848070e+05</td>\n",
              "      <td>2.848070e+05</td>\n",
              "      <td>2.848070e+05</td>\n",
              "      <td>2.848070e+05</td>\n",
              "      <td>2.848070e+05</td>\n",
              "      <td>2.848070e+05</td>\n",
              "      <td>284807.000000</td>\n",
              "      <td>284807.000000</td>\n",
              "    </tr>\n",
              "    <tr>\n",
              "      <th>mean</th>\n",
              "      <td>94813.859575</td>\n",
              "      <td>1.168375e-15</td>\n",
              "      <td>3.416908e-16</td>\n",
              "      <td>-1.379537e-15</td>\n",
              "      <td>2.074095e-15</td>\n",
              "      <td>9.604066e-16</td>\n",
              "      <td>1.487313e-15</td>\n",
              "      <td>-5.556467e-16</td>\n",
              "      <td>1.213481e-16</td>\n",
              "      <td>-2.406331e-15</td>\n",
              "      <td>...</td>\n",
              "      <td>1.654067e-16</td>\n",
              "      <td>-3.568593e-16</td>\n",
              "      <td>2.578648e-16</td>\n",
              "      <td>4.473266e-15</td>\n",
              "      <td>5.340915e-16</td>\n",
              "      <td>1.683437e-15</td>\n",
              "      <td>-3.660091e-16</td>\n",
              "      <td>-1.227390e-16</td>\n",
              "      <td>88.349619</td>\n",
              "      <td>0.001727</td>\n",
              "    </tr>\n",
              "    <tr>\n",
              "      <th>std</th>\n",
              "      <td>47488.145955</td>\n",
              "      <td>1.958696e+00</td>\n",
              "      <td>1.651309e+00</td>\n",
              "      <td>1.516255e+00</td>\n",
              "      <td>1.415869e+00</td>\n",
              "      <td>1.380247e+00</td>\n",
              "      <td>1.332271e+00</td>\n",
              "      <td>1.237094e+00</td>\n",
              "      <td>1.194353e+00</td>\n",
              "      <td>1.098632e+00</td>\n",
              "      <td>...</td>\n",
              "      <td>7.345240e-01</td>\n",
              "      <td>7.257016e-01</td>\n",
              "      <td>6.244603e-01</td>\n",
              "      <td>6.056471e-01</td>\n",
              "      <td>5.212781e-01</td>\n",
              "      <td>4.822270e-01</td>\n",
              "      <td>4.036325e-01</td>\n",
              "      <td>3.300833e-01</td>\n",
              "      <td>250.120109</td>\n",
              "      <td>0.041527</td>\n",
              "    </tr>\n",
              "    <tr>\n",
              "      <th>min</th>\n",
              "      <td>0.000000</td>\n",
              "      <td>-5.640751e+01</td>\n",
              "      <td>-7.271573e+01</td>\n",
              "      <td>-4.832559e+01</td>\n",
              "      <td>-5.683171e+00</td>\n",
              "      <td>-1.137433e+02</td>\n",
              "      <td>-2.616051e+01</td>\n",
              "      <td>-4.355724e+01</td>\n",
              "      <td>-7.321672e+01</td>\n",
              "      <td>-1.343407e+01</td>\n",
              "      <td>...</td>\n",
              "      <td>-3.483038e+01</td>\n",
              "      <td>-1.093314e+01</td>\n",
              "      <td>-4.480774e+01</td>\n",
              "      <td>-2.836627e+00</td>\n",
              "      <td>-1.029540e+01</td>\n",
              "      <td>-2.604551e+00</td>\n",
              "      <td>-2.256568e+01</td>\n",
              "      <td>-1.543008e+01</td>\n",
              "      <td>0.000000</td>\n",
              "      <td>0.000000</td>\n",
              "    </tr>\n",
              "    <tr>\n",
              "      <th>25%</th>\n",
              "      <td>54201.500000</td>\n",
              "      <td>-9.203734e-01</td>\n",
              "      <td>-5.985499e-01</td>\n",
              "      <td>-8.903648e-01</td>\n",
              "      <td>-8.486401e-01</td>\n",
              "      <td>-6.915971e-01</td>\n",
              "      <td>-7.682956e-01</td>\n",
              "      <td>-5.540759e-01</td>\n",
              "      <td>-2.086297e-01</td>\n",
              "      <td>-6.430976e-01</td>\n",
              "      <td>...</td>\n",
              "      <td>-2.283949e-01</td>\n",
              "      <td>-5.423504e-01</td>\n",
              "      <td>-1.618463e-01</td>\n",
              "      <td>-3.545861e-01</td>\n",
              "      <td>-3.171451e-01</td>\n",
              "      <td>-3.269839e-01</td>\n",
              "      <td>-7.083953e-02</td>\n",
              "      <td>-5.295979e-02</td>\n",
              "      <td>5.600000</td>\n",
              "      <td>0.000000</td>\n",
              "    </tr>\n",
              "    <tr>\n",
              "      <th>50%</th>\n",
              "      <td>84692.000000</td>\n",
              "      <td>1.810880e-02</td>\n",
              "      <td>6.548556e-02</td>\n",
              "      <td>1.798463e-01</td>\n",
              "      <td>-1.984653e-02</td>\n",
              "      <td>-5.433583e-02</td>\n",
              "      <td>-2.741871e-01</td>\n",
              "      <td>4.010308e-02</td>\n",
              "      <td>2.235804e-02</td>\n",
              "      <td>-5.142873e-02</td>\n",
              "      <td>...</td>\n",
              "      <td>-2.945017e-02</td>\n",
              "      <td>6.781943e-03</td>\n",
              "      <td>-1.119293e-02</td>\n",
              "      <td>4.097606e-02</td>\n",
              "      <td>1.659350e-02</td>\n",
              "      <td>-5.213911e-02</td>\n",
              "      <td>1.342146e-03</td>\n",
              "      <td>1.124383e-02</td>\n",
              "      <td>22.000000</td>\n",
              "      <td>0.000000</td>\n",
              "    </tr>\n",
              "    <tr>\n",
              "      <th>75%</th>\n",
              "      <td>139320.500000</td>\n",
              "      <td>1.315642e+00</td>\n",
              "      <td>8.037239e-01</td>\n",
              "      <td>1.027196e+00</td>\n",
              "      <td>7.433413e-01</td>\n",
              "      <td>6.119264e-01</td>\n",
              "      <td>3.985649e-01</td>\n",
              "      <td>5.704361e-01</td>\n",
              "      <td>3.273459e-01</td>\n",
              "      <td>5.971390e-01</td>\n",
              "      <td>...</td>\n",
              "      <td>1.863772e-01</td>\n",
              "      <td>5.285536e-01</td>\n",
              "      <td>1.476421e-01</td>\n",
              "      <td>4.395266e-01</td>\n",
              "      <td>3.507156e-01</td>\n",
              "      <td>2.409522e-01</td>\n",
              "      <td>9.104512e-02</td>\n",
              "      <td>7.827995e-02</td>\n",
              "      <td>77.165000</td>\n",
              "      <td>0.000000</td>\n",
              "    </tr>\n",
              "    <tr>\n",
              "      <th>max</th>\n",
              "      <td>172792.000000</td>\n",
              "      <td>2.454930e+00</td>\n",
              "      <td>2.205773e+01</td>\n",
              "      <td>9.382558e+00</td>\n",
              "      <td>1.687534e+01</td>\n",
              "      <td>3.480167e+01</td>\n",
              "      <td>7.330163e+01</td>\n",
              "      <td>1.205895e+02</td>\n",
              "      <td>2.000721e+01</td>\n",
              "      <td>1.559499e+01</td>\n",
              "      <td>...</td>\n",
              "      <td>2.720284e+01</td>\n",
              "      <td>1.050309e+01</td>\n",
              "      <td>2.252841e+01</td>\n",
              "      <td>4.584549e+00</td>\n",
              "      <td>7.519589e+00</td>\n",
              "      <td>3.517346e+00</td>\n",
              "      <td>3.161220e+01</td>\n",
              "      <td>3.384781e+01</td>\n",
              "      <td>25691.160000</td>\n",
              "      <td>1.000000</td>\n",
              "    </tr>\n",
              "  </tbody>\n",
              "</table>\n",
              "<p>8 rows × 31 columns</p>\n",
              "</div>\n",
              "      <button class=\"colab-df-convert\" onclick=\"convertToInteractive('df-66792b9e-cb67-4555-ae5d-55fd8534f21f')\"\n",
              "              title=\"Convert this dataframe to an interactive table.\"\n",
              "              style=\"display:none;\">\n",
              "        \n",
              "  <svg xmlns=\"http://www.w3.org/2000/svg\" height=\"24px\"viewBox=\"0 0 24 24\"\n",
              "       width=\"24px\">\n",
              "    <path d=\"M0 0h24v24H0V0z\" fill=\"none\"/>\n",
              "    <path d=\"M18.56 5.44l.94 2.06.94-2.06 2.06-.94-2.06-.94-.94-2.06-.94 2.06-2.06.94zm-11 1L8.5 8.5l.94-2.06 2.06-.94-2.06-.94L8.5 2.5l-.94 2.06-2.06.94zm10 10l.94 2.06.94-2.06 2.06-.94-2.06-.94-.94-2.06-.94 2.06-2.06.94z\"/><path d=\"M17.41 7.96l-1.37-1.37c-.4-.4-.92-.59-1.43-.59-.52 0-1.04.2-1.43.59L10.3 9.45l-7.72 7.72c-.78.78-.78 2.05 0 2.83L4 21.41c.39.39.9.59 1.41.59.51 0 1.02-.2 1.41-.59l7.78-7.78 2.81-2.81c.8-.78.8-2.07 0-2.86zM5.41 20L4 18.59l7.72-7.72 1.47 1.35L5.41 20z\"/>\n",
              "  </svg>\n",
              "      </button>\n",
              "      \n",
              "  <style>\n",
              "    .colab-df-container {\n",
              "      display:flex;\n",
              "      flex-wrap:wrap;\n",
              "      gap: 12px;\n",
              "    }\n",
              "\n",
              "    .colab-df-convert {\n",
              "      background-color: #E8F0FE;\n",
              "      border: none;\n",
              "      border-radius: 50%;\n",
              "      cursor: pointer;\n",
              "      display: none;\n",
              "      fill: #1967D2;\n",
              "      height: 32px;\n",
              "      padding: 0 0 0 0;\n",
              "      width: 32px;\n",
              "    }\n",
              "\n",
              "    .colab-df-convert:hover {\n",
              "      background-color: #E2EBFA;\n",
              "      box-shadow: 0px 1px 2px rgba(60, 64, 67, 0.3), 0px 1px 3px 1px rgba(60, 64, 67, 0.15);\n",
              "      fill: #174EA6;\n",
              "    }\n",
              "\n",
              "    [theme=dark] .colab-df-convert {\n",
              "      background-color: #3B4455;\n",
              "      fill: #D2E3FC;\n",
              "    }\n",
              "\n",
              "    [theme=dark] .colab-df-convert:hover {\n",
              "      background-color: #434B5C;\n",
              "      box-shadow: 0px 1px 3px 1px rgba(0, 0, 0, 0.15);\n",
              "      filter: drop-shadow(0px 1px 2px rgba(0, 0, 0, 0.3));\n",
              "      fill: #FFFFFF;\n",
              "    }\n",
              "  </style>\n",
              "\n",
              "      <script>\n",
              "        const buttonEl =\n",
              "          document.querySelector('#df-66792b9e-cb67-4555-ae5d-55fd8534f21f button.colab-df-convert');\n",
              "        buttonEl.style.display =\n",
              "          google.colab.kernel.accessAllowed ? 'block' : 'none';\n",
              "\n",
              "        async function convertToInteractive(key) {\n",
              "          const element = document.querySelector('#df-66792b9e-cb67-4555-ae5d-55fd8534f21f');\n",
              "          const dataTable =\n",
              "            await google.colab.kernel.invokeFunction('convertToInteractive',\n",
              "                                                     [key], {});\n",
              "          if (!dataTable) return;\n",
              "\n",
              "          const docLinkHtml = 'Like what you see? Visit the ' +\n",
              "            '<a target=\"_blank\" href=https://colab.research.google.com/notebooks/data_table.ipynb>data table notebook</a>'\n",
              "            + ' to learn more about interactive tables.';\n",
              "          element.innerHTML = '';\n",
              "          dataTable['output_type'] = 'display_data';\n",
              "          await google.colab.output.renderOutput(dataTable, element);\n",
              "          const docLink = document.createElement('div');\n",
              "          docLink.innerHTML = docLinkHtml;\n",
              "          element.appendChild(docLink);\n",
              "        }\n",
              "      </script>\n",
              "    </div>\n",
              "  </div>\n",
              "  "
            ]
          },
          "metadata": {},
          "execution_count": 3
        }
      ]
    },
    {
      "cell_type": "markdown",
      "source": [
        "#3. Explore data\n",
        "\n",
        "Target label contains only two classes, normal and fraud (anomaly)."
      ],
      "metadata": {
        "id": "6UzIufIeRkab"
      }
    },
    {
      "cell_type": "code",
      "source": [
        "anomalies = df[df.Class == 1]\n",
        "normal = df[df.Class == 0]\n",
        "\n",
        "print(f'Anomalies: {anomalies.shape}')\n",
        "print(f\"Normal: {normal.shape}\")"
      ],
      "metadata": {
        "colab": {
          "base_uri": "https://localhost:8080/"
        },
        "id": "u0UIsuu7RnIC",
        "outputId": "54717a72-77d1-4a09-b2d4-14df7d7d3c48"
      },
      "execution_count": 4,
      "outputs": [
        {
          "output_type": "stream",
          "name": "stdout",
          "text": [
            "Anomalies: (492, 31)\n",
            "Normal: (284315, 31)\n"
          ]
        }
      ]
    },
    {
      "cell_type": "markdown",
      "source": [
        "The dataset is unbalanced. Data is overwhelmingly biased towards \n",
        "normal data, where anomalies only comprise a vast minority of data \n",
        "points."
      ],
      "metadata": {
        "id": "VH_0L7RJSgBH"
      }
    },
    {
      "cell_type": "markdown",
      "source": [
        "Plot the class labels"
      ],
      "metadata": {
        "id": "8g_GiCB0Ssp7"
      }
    },
    {
      "cell_type": "code",
      "source": [
        "classes = pd.value_counts(df.Class, sort = True)\n",
        "classes.plot(kind = 'bar', rot=0)\n",
        "plt.title(\"Target Label Distribution\")\n",
        "plt.xticks(range(2), [\"Normal\", \"Fraud\"])\n",
        "plt.xlabel(\"Label\")\n",
        "plt.ylabel(\"Counts\")"
      ],
      "metadata": {
        "colab": {
          "base_uri": "https://localhost:8080/",
          "height": 422
        },
        "id": "kefvvqfTSvkp",
        "outputId": "fe110df9-b90c-4c0c-ee92-395aa03b36df"
      },
      "execution_count": 5,
      "outputs": [
        {
          "output_type": "execute_result",
          "data": {
            "text/plain": [
              "Text(0, 0.5, 'Counts')"
            ]
          },
          "metadata": {},
          "execution_count": 5
        },
        {
          "output_type": "display_data",
          "data": {
            "text/plain": [
              "<Figure size 864x432 with 1 Axes>"
            ],
            "image/png": "[encoded data removed]"
          },
          "metadata": {
            "needs_background": "light"
          }
        }
      ]
    },
    {
      "cell_type": "markdown",
      "source": [
        "Explore each class label"
      ],
      "metadata": {
        "id": "FbtXDXAzTcI3"
      }
    },
    {
      "cell_type": "code",
      "source": [
        "anomalies.Amount.describe()"
      ],
      "metadata": {
        "colab": {
          "base_uri": "https://localhost:8080/"
        },
        "id": "7GG3EGkvTei5",
        "outputId": "3f59959d-d95b-4b29-f0bd-a4cf4d8b2f19"
      },
      "execution_count": 6,
      "outputs": [
        {
          "output_type": "execute_result",
          "data": {
            "text/plain": [
              "count     492.000000\n",
              "mean      122.211321\n",
              "std       256.683288\n",
              "min         0.000000\n",
              "25%         1.000000\n",
              "50%         9.250000\n",
              "75%       105.890000\n",
              "max      2125.870000\n",
              "Name: Amount, dtype: float64"
            ]
          },
          "metadata": {},
          "execution_count": 6
        }
      ]
    },
    {
      "cell_type": "markdown",
      "source": [
        "Fraud data is skewed right, with low transaction values. Most of fraud transactions are less than $100. Anomalies does not occure with high-value transaction."
      ],
      "metadata": {
        "id": "yxR-OZSvT8zk"
      }
    },
    {
      "cell_type": "code",
      "source": [
        "normal.Amount.describe()"
      ],
      "metadata": {
        "colab": {
          "base_uri": "https://localhost:8080/"
        },
        "id": "95fdS37kWION",
        "outputId": "05114be4-27ee-4278-966a-1271cdd74d5e"
      },
      "execution_count": 7,
      "outputs": [
        {
          "output_type": "execute_result",
          "data": {
            "text/plain": [
              "count    284315.000000\n",
              "mean         88.291022\n",
              "std         250.105092\n",
              "min           0.000000\n",
              "25%           5.650000\n",
              "50%          22.000000\n",
              "75%          77.050000\n",
              "max       25691.160000\n",
              "Name: Amount, dtype: float64"
            ]
          },
          "metadata": {},
          "execution_count": 7
        }
      ]
    },
    {
      "cell_type": "markdown",
      "source": [
        "Normal data is skewed right. Most of the transactions show a transaction value lower than 100. Some transactions show high values around 25,000."
      ],
      "metadata": {
        "id": "zS1v2XR2Wyc-"
      }
    },
    {
      "cell_type": "markdown",
      "source": [
        "Scatter plot of class distribution"
      ],
      "metadata": {
        "id": "RTTvJUIuXZmV"
      }
    },
    {
      "cell_type": "code",
      "source": [
        "# Histogram Plot\n",
        "def plot_histogram(df, bins, column, log_scale=False):\n",
        " anomalies = df[df.Class == 1]\n",
        " normal = df[df.Class == 0]\n",
        " fig, (ax1, ax2) = plt.subplots(2, 1, sharex=True)\n",
        " fig.suptitle(f'Counts of {column} by Class')\n",
        " ax1.hist(anomalies[column], bins = bins, color=\"red\")\n",
        " ax1.set_title('Fraud')\n",
        " ax2.hist(normal[column], bins = bins, color=\"orange\")\n",
        " ax2.set_title('Normal')\n",
        " plt.xlabel(f'{column}')\n",
        " plt.ylabel('Count')\n",
        " if log_scale:\n",
        "  plt.yscale('log')\n",
        "  plt.xlim((np.min(df[column]), np.max(df[column])))\n",
        "  plt.show()"
      ],
      "metadata": {
        "id": "ro14o6MEYJW3"
      },
      "execution_count": 8,
      "outputs": []
    },
    {
      "cell_type": "code",
      "source": [
        "# scatter plot\n",
        "def plot_scatter(df, x_col, y_col, sharey = False):\n",
        " anomalies = df[df.Class == 1]\n",
        " normal = df[df.Class == 0]\n",
        " fig, (ax1, ax2) = plt.subplots(2, 1, sharex=True, sharey=sharey)\n",
        " fig.suptitle(f'{y_col} over {x_col} by Class')\n",
        " ax1.scatter(anomalies[x_col], anomalies[y_col], color='red')\n",
        " ax1.set_title('Anomaly')\n",
        " ax2.scatter(normal[x_col], normal[y_col], color='orange')\n",
        " ax2.set_title('Normal')\n",
        " plt.xlabel(x_col)\n",
        " plt.ylabel(y_col)\n",
        " plt.show()"
      ],
      "metadata": {
        "id": "Mi_kEf09Pvqt"
      },
      "execution_count": 9,
      "outputs": []
    },
    {
      "cell_type": "code",
      "source": [
        "bins = 100\n",
        "plot_histogram(df, bins, \"Amount\", log_scale=True)"
      ],
      "metadata": {
        "colab": {
          "base_uri": "https://localhost:8080/",
          "height": 431
        },
        "id": "SC41REEdZs7M",
        "outputId": "83a3b37b-fea6-480a-ebed-58cec017a76e"
      },
      "execution_count": 10,
      "outputs": [
        {
          "output_type": "display_data",
          "data": {
            "text/plain": [
              "<Figure size 864x432 with 2 Axes>"
            ],
            "image/png": "[encoded data removed]"
          },
          "metadata": {
            "needs_background": "light"
          }
        }
      ]
    },
    {
      "cell_type": "markdown",
      "source": [
        "The previous plots show that both classes exhibit a right skew, as well as the presence of outliers in the normal data."
      ],
      "metadata": {
        "id": "Y8lnGjYjaSbw"
      }
    },
    {
      "cell_type": "code",
      "source": [
        "plt.hist(anomalies.Amount, bins = bins, color=\"blue\")\n",
        "plt.show()"
      ],
      "metadata": {
        "id": "Xg98b-Y3ayvA",
        "colab": {
          "base_uri": "https://localhost:8080/",
          "height": 374
        },
        "outputId": "43288bb8-6ef9-49d2-ff5d-c4573bccd8bd"
      },
      "execution_count": 11,
      "outputs": [
        {
          "output_type": "display_data",
          "data": {
            "text/plain": [
              "<Figure size 864x432 with 1 Axes>"
            ],
            "image/png": "[encoded data removed]"
          },
          "metadata": {
            "needs_background": "light"
          }
        }
      ]
    },
    {
      "cell_type": "markdown",
      "source": [
        "The fraud transactions are right skewed. This confirms that the majority of anomalous occurs with low transaction amounts."
      ],
      "metadata": {
        "id": "6jbqvVMNOpyh"
      }
    },
    {
      "cell_type": "markdown",
      "source": [
        "Anomaly transaction distribution over time."
      ],
      "metadata": {
        "id": "tRWi1Y0dPjVE"
      }
    },
    {
      "cell_type": "code",
      "source": [
        "plot_histogram(df, bins, \"Time\")"
      ],
      "metadata": {
        "colab": {
          "base_uri": "https://localhost:8080/",
          "height": 431
        },
        "id": "RC9RAnjvO6fd",
        "outputId": "2bfd7452-601b-4448-ddce-beccad309df2"
      },
      "execution_count": 12,
      "outputs": [
        {
          "output_type": "display_data",
          "data": {
            "text/plain": [
              "<Figure size 864x432 with 2 Axes>"
            ],
            "image/png": "[encoded data removed]"
          },
          "metadata": {
            "needs_background": "light"
          }
        }
      ]
    },
    {
      "cell_type": "markdown",
      "source": [
        "Fraudulent transactions occur throughout the entire timeline, without no particular peak time. Regarding normal data, normal transactions occur in \"waves\". A portion of the fraudulent transactions still occur where normal transactions are at a maximum."
      ],
      "metadata": {
        "id": "XIHIb4r_Qki7"
      }
    },
    {
      "cell_type": "markdown",
      "source": [
        "Anomaly transaction distribution over features."
      ],
      "metadata": {
        "id": "xYeCtqF1UA-d"
      }
    },
    {
      "cell_type": "code",
      "source": [
        "plot_histogram(df, bins, \"V17\")"
      ],
      "metadata": {
        "colab": {
          "base_uri": "https://localhost:8080/",
          "height": 431
        },
        "id": "t8NTsyQTUE9S",
        "outputId": "edb517b6-5232-4d37-9a6d-9b2c61b675f4"
      },
      "execution_count": 13,
      "outputs": [
        {
          "output_type": "display_data",
          "data": {
            "text/plain": [
              "<Figure size 864x432 with 2 Axes>"
            ],
            "image/png": "[encoded data removed]"
          },
          "metadata": {
            "needs_background": "light"
          }
        }
      ]
    },
    {
      "cell_type": "markdown",
      "source": [
        "V17 feature differentiate between normal and \n",
        "fraudulent points considering the transaction amounts."
      ],
      "metadata": {
        "id": "5h3jYjfzUe0D"
      }
    },
    {
      "cell_type": "markdown",
      "source": [
        "#3. Build Model\n",
        "##3.1. Scikit-Learn"
      ],
      "metadata": {
        "id": "RyZ3HJ3RzDKx"
      }
    },
    {
      "cell_type": "code",
      "source": [
        "import seaborn as sns\n",
        "import sklearn\n",
        "from sklearn.linear_model import LogisticRegression\n",
        "from sklearn.model_selection import train_test_split\n",
        "from sklearn.preprocessing import StandardScaler\n",
        "from sklearn.metrics import roc_auc_score, plot_roc_curve, confusion_matrix\n",
        "from sklearn.model_selection import KFold"
      ],
      "metadata": {
        "id": "gYOPicRJzK6h"
      },
      "execution_count": 14,
      "outputs": []
    },
    {
      "cell_type": "markdown",
      "source": [
        "Data is unbalanced. Different dataframes are obtained (50% sample of normal data). random_state to specifies the reproducibility of the random sampling.\n",
        "\n",
        "---\n",
        "\n"
      ],
      "metadata": {
        "id": "MTCiOYJY0Okv"
      }
    },
    {
      "cell_type": "code",
      "source": [
        "normal = df[df['Class'] == 0].sample(frac=0.5, random_state=2020).reset_index(drop=True)\n",
        "anomaly = df[df['Class'] == 1]"
      ],
      "metadata": {
        "id": "jHUzhtps0YrU"
      },
      "execution_count": 15,
      "outputs": []
    },
    {
      "cell_type": "markdown",
      "source": [
        "Size of both datasets."
      ],
      "metadata": {
        "id": "LmSFoq1Z0vyo"
      }
    },
    {
      "cell_type": "code",
      "source": [
        "print(f\"Normal Size: {normal.shape}\")\n",
        "print(f\"Anomaly Size: {anomaly.shape}\")"
      ],
      "metadata": {
        "colab": {
          "base_uri": "https://localhost:8080/"
        },
        "id": "ZR-bbWLA1Ya9",
        "outputId": "d93993ed-be79-4bd5-c394-5d3955afc62a"
      },
      "execution_count": 16,
      "outputs": [
        {
          "output_type": "stream",
          "name": "stdout",
          "text": [
            "Normal Size: (142158, 31)\n",
            "Anomaly Size: (492, 31)\n"
          ]
        }
      ]
    },
    {
      "cell_type": "markdown",
      "source": [
        "There is still a hugh disparity between normal and anomaly dataframes. Logistic regression is able to  distinguish between both classes. This is no the case of neural networks."
      ],
      "metadata": {
        "id": "2Pg4YbgW2G0b"
      }
    },
    {
      "cell_type": "markdown",
      "source": [
        "Split dataset"
      ],
      "metadata": {
        "id": "WgEl1Uve4Ypk"
      }
    },
    {
      "cell_type": "code",
      "source": [
        "normal_train, normal_test = train_test_split(normal, test_size = 0.2, random_state = 2020)\n",
        "anomaly_train, anomaly_test = train_test_split(anomaly, test_size = 0.2, random_state = 2020)"
      ],
      "metadata": {
        "id": "GNPfl_r34TKY"
      },
      "execution_count": 17,
      "outputs": []
    },
    {
      "cell_type": "code",
      "source": [
        "normal_train, normal_validate = train_test_split(normal_train, test_size = 0.25, random_state = 2020)\n",
        "anomaly_train, anomaly_validate = train_test_split(anomaly_train, test_size = 0.25, random_state = 2020)"
      ],
      "metadata": {
        "id": "g1ux9Ib_5QRh"
      },
      "execution_count": 18,
      "outputs": []
    },
    {
      "cell_type": "code",
      "source": [
        "x_train = pd.concat((normal_train, anomaly_train))\n",
        "x_test = pd.concat((normal_test, anomaly_test))\n",
        "x_validate = pd.concat((normal_validate, anomaly_validate))\n",
        "\n",
        "y_train = np.array(x_train[\"Class\"])\n",
        "y_test = np.array(x_test[\"Class\"])\n",
        "y_validate = np.array(x_validate[\"Class\"])"
      ],
      "metadata": {
        "id": "b51llFsG5e_9"
      },
      "execution_count": 19,
      "outputs": []
    },
    {
      "cell_type": "code",
      "source": [
        "x_train = x_train.drop(\"Class\", axis=1)\n",
        "x_test = x_test.drop(\"Class\", axis=1)\n",
        "x_validate = x_validate.drop(\"Class\", axis=1)"
      ],
      "metadata": {
        "id": "OLG-wd9l5oHL"
      },
      "execution_count": 20,
      "outputs": []
    },
    {
      "cell_type": "markdown",
      "source": [
        "Shape of datasets."
      ],
      "metadata": {
        "id": "4trq6IdI5tHW"
      }
    },
    {
      "cell_type": "code",
      "source": [
        "print(\"Training sets:\\nx_train: {} y_train: {}\".format(x_train.\n",
        "shape, y_train.shape))\n",
        "print(\"\\nTesting sets:\\nx_test: {} y_test: {}\".format(x_test.\n",
        "shape, y_test.shape))\n",
        "print(\"\\nValidation sets:\\nx_validate: {} y_validate:{}\".format(x_validate.shape, y_validate.shape))"
      ],
      "metadata": {
        "colab": {
          "base_uri": "https://localhost:8080/"
        },
        "id": "Tv6fLH2S5wWr",
        "outputId": "ce5cefba-e71b-4dd2-f9f5-af8d5b594edc"
      },
      "execution_count": 21,
      "outputs": [
        {
          "output_type": "stream",
          "name": "stdout",
          "text": [
            "Training sets:\n",
            "x_train: (85588, 30) y_train: (85588,)\n",
            "\n",
            "Testing sets:\n",
            "x_test: (28531, 30) y_test: (28531,)\n",
            "\n",
            "Validation sets:\n",
            "x_validate: (28531, 30) y_validate:(28531,)\n"
          ]
        }
      ]
    },
    {
      "cell_type": "markdown",
      "source": [
        "When some features have significant different values range the model will have a much harder time learning. On other words,  the model will require many more steps to converge. For this reason, it is better scale down by normalizing the data."
      ],
      "metadata": {
        "id": "YSpu77TM6L-Z"
      }
    },
    {
      "cell_type": "markdown",
      "source": [
        "Scale data"
      ],
      "metadata": {
        "id": "zfDL7Cy64_l-"
      }
    },
    {
      "cell_type": "code",
      "source": [
        "scaler = StandardScaler()\n",
        "scaler.fit(pd.concat((normal, anomaly)).drop(\"Class\", axis=1))\n",
        "x_train = scaler.transform(x_train)\n",
        "x_test = scaler.transform(x_test)\n",
        "x_validate = scaler.transform(x_validate)"
      ],
      "metadata": {
        "id": "Yf60lDx-6K5l"
      },
      "execution_count": 22,
      "outputs": []
    },
    {
      "cell_type": "markdown",
      "source": [
        "Logistic Regression Model"
      ],
      "metadata": {
        "id": "xrfEwlvN5RLO"
      }
    },
    {
      "cell_type": "code",
      "source": [
        "sk_model = (LogisticRegression(random_state=None, max_iter= 410, solver='newton-cg')\n",
        "            .fit(x_train, y_train))"
      ],
      "metadata": {
        "id": "p9FemtPg5VEa"
      },
      "execution_count": 23,
      "outputs": []
    },
    {
      "cell_type": "markdown",
      "source": [
        "Evaluate the model using accuracy and AUC (Area Under Curve) score. The ideal AUC score is 1. An AUC score of 0.5 means that the model is practically just guessing randomly."
      ],
      "metadata": {
        "id": "F6dgyXnq5tRM"
      }
    },
    {
      "cell_type": "code",
      "source": [
        "eval_acc = sk_model.score(x_test, y_test)\n",
        "preds = sk_model.predict(x_test)\n",
        "auc_score = roc_auc_score(y_test, preds)"
      ],
      "metadata": {
        "id": "6FHFsoVt55q3"
      },
      "execution_count": 24,
      "outputs": []
    },
    {
      "cell_type": "code",
      "source": [
        "print(f\"AUC Score: {auc_score:.2%}\")\n",
        "print(f\"Accuracy Score: {eval_acc:.2%}\")\n"
      ],
      "metadata": {
        "colab": {
          "base_uri": "https://localhost:8080/"
        },
        "id": "6zNolyDt6fBT",
        "outputId": "a01eabc5-4968-4002-c36c-3deb1d17307e"
      },
      "execution_count": 25,
      "outputs": [
        {
          "output_type": "stream",
          "name": "stdout",
          "text": [
            "AUC Score: 84.33%\n",
            "Accuracy Score: 99.87%\n"
          ]
        }
      ]
    },
    {
      "cell_type": "markdown",
      "source": [
        "AUC and accuracy score are high. The last one is influenced by the high proportion of normal points. According to the AUC score, the model distinguishes between both classes."
      ],
      "metadata": {
        "id": "bZO3xN0p7x4O"
      }
    },
    {
      "cell_type": "markdown",
      "source": [
        "Plot ROC curve."
      ],
      "metadata": {
        "id": "_4fKfGFz8Yi4"
      }
    },
    {
      "cell_type": "code",
      "source": [
        "roc_plot = plot_roc_curve(sk_model, x_test, y_test, name='Scikit-learn ROC Curve')"
      ],
      "metadata": {
        "colab": {
          "base_uri": "https://localhost:8080/",
          "height": 445
        },
        "id": "pLk2WBJY8gNq",
        "outputId": "0ec6f75e-e789-4dbf-f6e8-349892638376"
      },
      "execution_count": 26,
      "outputs": [
        {
          "output_type": "stream",
          "name": "stderr",
          "text": [
            "/usr/local/lib/python3.8/dist-packages/sklearn/utils/deprecation.py:87: FutureWarning: Function plot_roc_curve is deprecated; Function :func:`plot_roc_curve` is deprecated in 1.0 and will be removed in 1.2. Use one of the class methods: :meth:`sklearn.metric.RocCurveDisplay.from_predictions` or :meth:`sklearn.metric.RocCurveDisplay.from_estimator`.\n",
            "  warnings.warn(msg, category=FutureWarning)\n"
          ]
        },
        {
          "output_type": "display_data",
          "data": {
            "text/plain": [
              "<Figure size 864x432 with 1 Axes>"
            ],
            "image/png": "[encoded data removed]"
          },
          "metadata": {
            "needs_background": "light"
          }
        }
      ]
    },
    {
      "cell_type": "markdown",
      "source": [
        "Plot confusion matrix.\n",
        "\n",
        "• True positives are values that the model predicts as positive that actually are positive.\n",
        "\n",
        "• False negatives are values that the model predicts as negative that actually are positive.\n",
        "\n",
        "• False positives are values that the model predicts as positive that actually are negative.\n",
        "\n",
        "• True negatives are values that the model predicts as negative that actually are negative."
      ],
      "metadata": {
        "id": "iSOI92ZN8pVi"
      }
    },
    {
      "cell_type": "code",
      "source": [
        "conf_matrix = confusion_matrix(y_test, preds)\n",
        "ax = sns.heatmap(conf_matrix, annot=True,fmt='g')\n",
        "ax.invert_xaxis()\n",
        "ax.invert_yaxis()\n",
        "plt.ylabel('Actual')\n",
        "plt.xlabel('Predicted')"
      ],
      "metadata": {
        "colab": {
          "base_uri": "https://localhost:8080/",
          "height": 406
        },
        "id": "VvsQElAy8_SK",
        "outputId": "fa360fb0-7045-4dca-c94d-083ab29f457a"
      },
      "execution_count": 27,
      "outputs": [
        {
          "output_type": "execute_result",
          "data": {
            "text/plain": [
              "Text(0.5, 33.0, 'Predicted')"
            ]
          },
          "metadata": {},
          "execution_count": 27
        },
        {
          "output_type": "display_data",
          "data": {
            "text/plain": [
              "<Figure size 864x432 with 2 Axes>"
            ],
            "image/png": "[encoded data removed]"
          },
          "metadata": {
            "needs_background": "light"
          }
        }
      ]
    },
    {
      "cell_type": "markdown",
      "source": [
        "The confusion matrix provides a suitable representation of the model performance. The model can predict the majority of anomalies correctly."
      ],
      "metadata": {
        "id": "0gvgT-sZ_UdH"
      }
    },
    {
      "cell_type": "markdown",
      "source": [
        "## 3.2. Model validation"
      ],
      "metadata": {
        "id": "UJqvx18dA7BS"
      }
    },
    {
      "cell_type": "markdown",
      "source": [
        "K-fold cross-validation to compare several hyperparameter values. The hyperparameter to be tuned in this case are the anomaly weights compated with the normal data points."
      ],
      "metadata": {
        "id": "TcL64u4lBIoT"
      }
    },
    {
      "cell_type": "code",
      "source": [
        "# List of weigths to iterate\n",
        "anomaly_weights = [1, 5, 10, 15] "
      ],
      "metadata": {
        "id": "SCeF6wYoATJn"
      },
      "execution_count": 28,
      "outputs": []
    },
    {
      "cell_type": "code",
      "source": [
        "# Define number of folds\n",
        "num_folds = 5\n",
        "\n",
        "# Initialize data fold generator\n",
        "kfold = KFold(n_splits=num_folds, shuffle=True, random_state=2020)"
      ],
      "metadata": {
        "id": "HSoVZX9rDSDk"
      },
      "execution_count": 29,
      "outputs": []
    },
    {
      "cell_type": "markdown",
      "source": [
        "KFold() function splits the data into num_folds different partitions. A single fold acts as a validation set at a time, while the rest of the folds are used for training. Thus, validation contributes to understand how the model is fitting new data."
      ],
      "metadata": {
        "id": "qvqhMTyoDzH6"
      }
    },
    {
      "cell_type": "code",
      "source": [
        "# Define validation script\n",
        "logs = []\n",
        "\n",
        "for f in range(len(anomaly_weights)):\n",
        "    fold = 1\n",
        "    accuracies = []\n",
        "    auc_scores= []\n",
        "    for train, test in kfold.split(x_validate, y_validate):\n",
        "        weight = anomaly_weights[f]\n",
        "        class_weights= {0:1, 1: weight}\n",
        "        sk_model = LogisticRegression(random_state=None, max_iter=400, solver='newton-cg', class_weight=class_weights).fit(x_validate[train], y_validate[train])\n",
        "    \n",
        "        for h in range(40): print('-', end=\"\")\n",
        "        print(f\"\\nfold {fold}\\nAnomaly Weight: {weight}\")\n",
        "        eval_acc = sk_model.score(x_validate[test], y_validate[test])\n",
        "        preds = sk_model.predict(x_validate[test])\n",
        "  \n",
        "        try:\n",
        "            auc_score = roc_auc_score(y_validate[test], preds)\n",
        "        except:\n",
        "            auc_score = -1\n",
        "      \n",
        "        print(\"AUC: {}\\neval_acc: {}\".format(auc_score, eval_acc))\n",
        "      \n",
        "        accuracies.append(eval_acc)\n",
        "        auc_scores.append(auc_score)\n",
        "      \n",
        "        log = [sk_model, x_validate[test], y_validate[test], preds]\n",
        "        logs.append(log)\n",
        "      \n",
        "        fold = fold + 1\n",
        "\n",
        "    print(\"\\nAverages: \")\n",
        "    print(\"Accuracy: \", np.mean(accuracies))\n",
        "    print(\"AUC: \", np.mean(auc_scores))\n",
        "    print(\"Best: \")\n",
        "    print(\"Accuracy: \", np.max(accuracies))\n",
        "    print(\"AUC: \", np.max(auc_scores))"
      ],
      "metadata": {
        "colab": {
          "base_uri": "https://localhost:8080/"
        },
        "id": "LWQajwlYELaw",
        "outputId": "e8dc5f32-9e37-4a19-f7a8-301165538331"
      },
      "execution_count": 30,
      "outputs": [
        {
          "output_type": "stream",
          "name": "stdout",
          "text": [
            "----------------------------------------\n",
            "fold 1\n",
            "Anomaly Weight: 1\n",
            "AUC: 0.8\n",
            "eval_acc: 0.9985982127212195\n",
            "----------------------------------------\n",
            "fold 2\n",
            "Anomaly Weight: 1\n",
            "AUC: 0.8568790049001132\n",
            "eval_acc: 0.998422712933754\n",
            "----------------------------------------\n",
            "fold 3\n",
            "Anomaly Weight: 1\n",
            "AUC: 0.8179179195189047\n",
            "eval_acc: 0.9980722046968104\n",
            "----------------------------------------\n",
            "fold 4\n",
            "Anomaly Weight: 1\n",
            "AUC: 0.8682452129973255\n",
            "eval_acc: 0.9987732211706976\n",
            "----------------------------------------\n",
            "fold 5\n",
            "Anomaly Weight: 1\n",
            "AUC: 0.8528532875621686\n",
            "eval_acc: 0.9989484752891693\n",
            "\n",
            "Averages: \n",
            "Accuracy:  0.9985629653623302\n",
            "AUC:  0.8391790849957024\n",
            "Best: \n",
            "Accuracy:  0.9989484752891693\n",
            "AUC:  0.8682452129973255\n",
            "----------------------------------------\n",
            "fold 1\n",
            "Anomaly Weight: 5\n",
            "AUC: 0.8748241603657465\n",
            "eval_acc: 0.9987734361310671\n",
            "----------------------------------------\n",
            "fold 2\n",
            "Anomaly Weight: 5\n",
            "AUC: 0.9515893956527202\n",
            "eval_acc: 0.9980722046968104\n",
            "----------------------------------------\n",
            "fold 3\n",
            "Anomaly Weight: 5\n",
            "AUC: 0.9314663169342972\n",
            "eval_acc: 0.9987732211706976\n",
            "----------------------------------------\n",
            "fold 4\n",
            "Anomaly Weight: 5\n",
            "AUC: 0.8943851628367561\n",
            "eval_acc: 0.9985979670522257\n",
            "----------------------------------------\n",
            "fold 5\n",
            "Anomaly Weight: 5\n",
            "AUC: 0.8820013855427915\n",
            "eval_acc: 0.9985979670522257\n",
            "\n",
            "Averages: \n",
            "Accuracy:  0.9985629592206052\n",
            "AUC:  0.9068532842664622\n",
            "Best: \n",
            "Accuracy:  0.9987734361310671\n",
            "AUC:  0.9515893956527202\n",
            "----------------------------------------\n",
            "fold 1\n",
            "Anomaly Weight: 10\n",
            "AUC: 0.9245604009143662\n",
            "eval_acc: 0.9985982127212195\n",
            "----------------------------------------\n",
            "fold 2\n",
            "Anomaly Weight: 10\n",
            "AUC: 0.9751350672194998\n",
            "eval_acc: 0.9977216964598669\n",
            "----------------------------------------\n",
            "fold 3\n",
            "Anomaly Weight: 10\n",
            "AUC: 0.9313783507133262\n",
            "eval_acc: 0.9985979670522257\n",
            "----------------------------------------\n",
            "fold 4\n",
            "Anomaly Weight: 10\n",
            "AUC: 0.8942972430196292\n",
            "eval_acc: 0.998422712933754\n",
            "----------------------------------------\n",
            "fold 5\n",
            "Anomaly Weight: 10\n",
            "AUC: 0.8820013855427915\n",
            "eval_acc: 0.9985979670522257\n",
            "\n",
            "Averages: \n",
            "Accuracy:  0.9983877112438584\n",
            "AUC:  0.9214744894819227\n",
            "Best: \n",
            "Accuracy:  0.9985982127212195\n",
            "AUC:  0.9751350672194998\n",
            "----------------------------------------\n",
            "fold 1\n",
            "Anomaly Weight: 15\n",
            "AUC: 0.9242087216458591\n",
            "eval_acc: 0.9978973190818293\n",
            "----------------------------------------\n",
            "fold 2\n",
            "Anomaly Weight: 15\n",
            "AUC: 0.9749591657243373\n",
            "eval_acc: 0.9973711882229233\n",
            "----------------------------------------\n",
            "fold 3\n",
            "Anomaly Weight: 15\n",
            "AUC: 0.9313783507133262\n",
            "eval_acc: 0.9985979670522257\n",
            "----------------------------------------\n",
            "fold 4\n",
            "Anomaly Weight: 15\n",
            "AUC: 0.8938576439339954\n",
            "eval_acc: 0.997546442341395\n",
            "----------------------------------------\n",
            "fold 5\n",
            "Anomaly Weight: 15\n",
            "AUC: 0.8813861631838532\n",
            "eval_acc: 0.9973711882229233\n",
            "\n",
            "Averages: \n",
            "Accuracy:  0.9977568209842593\n",
            "AUC:  0.9211580090402742\n",
            "Best: \n",
            "Accuracy:  0.9985979670522257\n",
            "AUC:  0.9749591657243373\n"
          ]
        }
      ]
    },
    {
      "cell_type": "markdown",
      "source": [
        "The best metrics were obtained for anomaly weight = 10 and 3 folds."
      ],
      "metadata": {
        "id": "eTXCzxjDFHky"
      }
    },
    {
      "cell_type": "markdown",
      "source": [
        "With index 10, it begins the first fold in logs with weight ten, so the second fold is at index 11."
      ],
      "metadata": {
        "id": "SlPD46xPGZnL"
      }
    },
    {
      "cell_type": "code",
      "source": [
        "sk_model, x_val, y_val, preds = logs[11]"
      ],
      "metadata": {
        "id": "oUPhnDM7GkrF"
      },
      "execution_count": 39,
      "outputs": []
    },
    {
      "cell_type": "markdown",
      "source": [
        "Plot ROC curve with anomaly weight tunning."
      ],
      "metadata": {
        "id": "-hyG-1CSGycC"
      }
    },
    {
      "cell_type": "code",
      "source": [
        "roc_plot = plot_roc_curve(sk_model, x_val, y_val, name='ROC Curve')"
      ],
      "metadata": {
        "colab": {
          "base_uri": "https://localhost:8080/",
          "height": 445
        },
        "id": "uJKunIuvHElX",
        "outputId": "c678451c-2600-4b8b-a217-7ab3487a15c5"
      },
      "execution_count": 40,
      "outputs": [
        {
          "output_type": "stream",
          "name": "stderr",
          "text": [
            "/usr/local/lib/python3.8/dist-packages/sklearn/utils/deprecation.py:87: FutureWarning: Function plot_roc_curve is deprecated; Function :func:`plot_roc_curve` is deprecated in 1.0 and will be removed in 1.2. Use one of the class methods: :meth:`sklearn.metric.RocCurveDisplay.from_predictions` or :meth:`sklearn.metric.RocCurveDisplay.from_estimator`.\n",
            "  warnings.warn(msg, category=FutureWarning)\n"
          ]
        },
        {
          "output_type": "display_data",
          "data": {
            "text/plain": [
              "<Figure size 864x432 with 1 Axes>"
            ],
            "image/png": "[encoded data removed]"
          },
          "metadata": {
            "needs_background": "light"
          }
        }
      ]
    },
    {
      "cell_type": "markdown",
      "source": [
        "The ROC curve for the specific validation fold .  Thusm it would mean the AUC would be as close to 1.0."
      ],
      "metadata": {
        "id": "vhFjRwAeIGFC"
      }
    },
    {
      "cell_type": "markdown",
      "source": [
        "Plot the confusion matrix with anomaly weight tunning."
      ],
      "metadata": {
        "id": "u4uUM8QaIi3m"
      }
    },
    {
      "cell_type": "code",
      "source": [
        "conf_matrix = confusion_matrix(y_val, preds)\n",
        "ax = sns.heatmap(conf_matrix, annot=True,fmt='g')\n",
        "ax.invert_xaxis()\n",
        "ax.invert_yaxis()\n",
        "plt.ylabel('Actual')\n",
        "plt.xlabel('Predicted')"
      ],
      "metadata": {
        "colab": {
          "base_uri": "https://localhost:8080/",
          "height": 406
        },
        "id": "ob3G_jeCIoZB",
        "outputId": "d90c0836-1baa-4405-e494-7df684257311"
      },
      "execution_count": 41,
      "outputs": [
        {
          "output_type": "execute_result",
          "data": {
            "text/plain": [
              "Text(0.5, 33.0, 'Predicted')"
            ]
          },
          "metadata": {},
          "execution_count": 41
        },
        {
          "output_type": "display_data",
          "data": {
            "text/plain": [
              "<Figure size 864x432 with 2 Axes>"
            ],
            "image/png": "[encoded data removed]"
          },
          "metadata": {
            "needs_background": "light"
          }
        }
      ]
    },
    {
      "cell_type": "markdown",
      "source": [
        "The confusion matrix for a specific validation fold show very good accuracy in labeling normal data points and does very well with anomaly points. Furthermore, it can be observed that can see that there are barely any anomalies in this validation fold. The model exhibited better performance in anomaly detection having a higher weight in this class."
      ],
      "metadata": {
        "id": "ht0-ygJSJWa7"
      }
    },
    {
      "cell_type": "markdown",
      "source": [
        "#3.2. Pyspark\n"
      ],
      "metadata": {
        "id": "9WGcVXQvKpef"
      }
    },
    {
      "cell_type": "markdown",
      "source": [
        "Import the modules."
      ],
      "metadata": {
        "id": "oVG8Ktb6LDZg"
      }
    },
    {
      "cell_type": "code",
      "source": [
        "!pip install pyspark\n",
        "import pyspark\n",
        "from pyspark.sql import SparkSession\n",
        "from pyspark import SparkConf, SparkContext\n",
        "from pyspark.sql.types import *\n",
        "from pyspark.ml.feature import VectorAssembler\n",
        "from pyspark.ml import Pipeline\n",
        "from pyspark.ml.classification import LogisticRegression as LogisticRegressionPySpark\n",
        "import pyspark.sql.functions as F\n",
        "import os"
      ],
      "metadata": {
        "colab": {
          "base_uri": "https://localhost:8080/"
        },
        "id": "utK2jgNDLFNu",
        "outputId": "87da8870-4aed-4dd8-f56b-63f7cea5c794"
      },
      "execution_count": 34,
      "outputs": [
        {
          "output_type": "stream",
          "name": "stdout",
          "text": [
            "Looking in indexes: https://pypi.org/simple, https://us-python.pkg.dev/colab-wheels/public/simple/\n",
            "Requirement already satisfied: pyspark in /usr/local/lib/python3.8/dist-packages (3.3.1)\n",
            "Requirement already satisfied: py4j==0.10.9.5 in /usr/local/lib/python3.8/dist-packages (from pyspark) (0.10.9.5)\n"
          ]
        }
      ]
    },
    {
      "cell_type": "markdown",
      "source": [
        "Define spark context."
      ],
      "metadata": {
        "id": "zwtaIfVSMQwg"
      }
    },
    {
      "cell_type": "code",
      "source": [
        "os.environ[\"SPARK_LOCAL_IP\"]='127.0.0.1'\n",
        "spark = SparkSession.builder.master(\"local[*]\").getOrCreate()\n",
        "spark.sparkContext._conf.getAll()\n"
      ],
      "metadata": {
        "colab": {
          "base_uri": "https://localhost:8080/"
        },
        "id": "QS-zjjhHLay5",
        "outputId": "76c3e46a-6537-4bab-c364-f58f253532c2"
      },
      "execution_count": 35,
      "outputs": [
        {
          "output_type": "execute_result",
          "data": {
            "text/plain": [
              "[('spark.app.startTime', '1673011220778'),\n",
              " ('spark.driver.extraJavaOptions',\n",
              "  '-XX:+IgnoreUnrecognizedVMOptions --add-opens=java.base/java.lang=ALL-UNNAMED --add-opens=java.base/java.lang.invoke=ALL-UNNAMED --add-opens=java.base/java.lang.reflect=ALL-UNNAMED --add-opens=java.base/java.io=ALL-UNNAMED --add-opens=java.base/java.net=ALL-UNNAMED --add-opens=java.base/java.nio=ALL-UNNAMED --add-opens=java.base/java.util=ALL-UNNAMED --add-opens=java.base/java.util.concurrent=ALL-UNNAMED --add-opens=java.base/java.util.concurrent.atomic=ALL-UNNAMED --add-opens=java.base/sun.nio.ch=ALL-UNNAMED --add-opens=java.base/sun.nio.cs=ALL-UNNAMED --add-opens=java.base/sun.security.action=ALL-UNNAMED --add-opens=java.base/sun.util.calendar=ALL-UNNAMED --add-opens=java.security.jgss/sun.security.krb5=ALL-UNNAMED'),\n",
              " ('spark.executor.id', 'driver'),\n",
              " ('spark.driver.host', 'localhost'),\n",
              " ('spark.app.id', 'local-1673011222437'),\n",
              " ('spark.app.name', 'pyspark-shell'),\n",
              " ('spark.driver.port', '33583'),\n",
              " ('spark.rdd.compress', 'True'),\n",
              " ('spark.executor.extraJavaOptions',\n",
              "  '-XX:+IgnoreUnrecognizedVMOptions --add-opens=java.base/java.lang=ALL-UNNAMED --add-opens=java.base/java.lang.invoke=ALL-UNNAMED --add-opens=java.base/java.lang.reflect=ALL-UNNAMED --add-opens=java.base/java.io=ALL-UNNAMED --add-opens=java.base/java.net=ALL-UNNAMED --add-opens=java.base/java.nio=ALL-UNNAMED --add-opens=java.base/java.util=ALL-UNNAMED --add-opens=java.base/java.util.concurrent=ALL-UNNAMED --add-opens=java.base/java.util.concurrent.atomic=ALL-UNNAMED --add-opens=java.base/sun.nio.ch=ALL-UNNAMED --add-opens=java.base/sun.nio.cs=ALL-UNNAMED --add-opens=java.base/sun.security.action=ALL-UNNAMED --add-opens=java.base/sun.util.calendar=ALL-UNNAMED --add-opens=java.security.jgss/sun.security.krb5=ALL-UNNAMED'),\n",
              " ('spark.serializer.objectStreamReset', '100'),\n",
              " ('spark.master', 'local[*]'),\n",
              " ('spark.submit.pyFiles', ''),\n",
              " ('spark.submit.deployMode', 'client'),\n",
              " ('spark.app.submitTime', '1673011220486'),\n",
              " ('spark.ui.showConsoleProgress', 'true')]"
            ]
          },
          "metadata": {},
          "execution_count": 35
        }
      ]
    },
    {
      "cell_type": "markdown",
      "source": [
        "Load data"
      ],
      "metadata": {
        "id": "FtDtyZgVMpq2"
      }
    },
    {
      "cell_type": "code",
      "source": [
        "df = spark.read.csv('creditcard.csv', header = True, inferSchema = True)\n"
      ],
      "metadata": {
        "id": "eLe4xLoTMUfs"
      },
      "execution_count": 36,
      "outputs": []
    },
    {
      "cell_type": "markdown",
      "source": [
        "Remove the Class column from the list of columns. Class column must not be included in the feature \n",
        "vector."
      ],
      "metadata": {
        "id": "UACfB_BgNVfb"
      }
    },
    {
      "cell_type": "code",
      "source": [
        "labelColumn = \"Class\"\n",
        "cols = df.columns\n",
        "numericCols = cols\n",
        "numericCols.remove(labelColumn)\n",
        "print(numericCols)"
      ],
      "metadata": {
        "colab": {
          "base_uri": "https://localhost:8080/"
        },
        "id": "tSl1WhJLNT9w",
        "outputId": "80d00ca3-cf09-420a-ae1a-4f51a1a49e9c"
      },
      "execution_count": 37,
      "outputs": [
        {
          "output_type": "stream",
          "name": "stdout",
          "text": [
            "['Time', 'V1', 'V2', 'V3', 'V4', 'V5', 'V6', 'V7', 'V8', 'V9', 'V10', 'V11', 'V12', 'V13', 'V14', 'V15', 'V16', 'V17', 'V18', 'V19', 'V20', 'V21', 'V22', 'V23', 'V24', 'V25', 'V26', 'V27', 'V28', 'Amount']\n"
          ]
        }
      ]
    },
    {
      "cell_type": "code",
      "source": [
        "df.show(2)"
      ],
      "metadata": {
        "colab": {
          "base_uri": "https://localhost:8080/"
        },
        "id": "90aI9QUjN-ia",
        "outputId": "253f0b67-a5db-43c7-9f92-ad5ab33c0b20"
      },
      "execution_count": 38,
      "outputs": [
        {
          "output_type": "stream",
          "name": "stdout",
          "text": [
            "+----+----------------+-------------------+----------------+-----------------+------------------+-------------------+-------------------+------------------+------------------+------------------+------------------+------------------+------------------+------------------+-----------------+------------------+------------------+------------------+------------------+-------------------+------------------+------------------+------------------+------------------+-----------------+------------------+--------------------+-------------------+------+-----+\n",
            "|Time|              V1|                 V2|              V3|               V4|                V5|                 V6|                 V7|                V8|                V9|               V10|               V11|               V12|               V13|               V14|              V15|               V16|               V17|               V18|               V19|                V20|               V21|               V22|               V23|               V24|              V25|               V26|                 V27|                V28|Amount|Class|\n",
            "+----+----------------+-------------------+----------------+-----------------+------------------+-------------------+-------------------+------------------+------------------+------------------+------------------+------------------+------------------+------------------+-----------------+------------------+------------------+------------------+------------------+-------------------+------------------+------------------+------------------+------------------+-----------------+------------------+--------------------+-------------------+------+-----+\n",
            "| 0.0|-1.3598071336738|-0.0727811733098497|2.53634673796914| 1.37815522427443|-0.338320769942518|  0.462387777762292|  0.239598554061257|0.0986979012610507| 0.363786969611213|0.0907941719789316|-0.551599533260813|-0.617800855762348|-0.991389847235408|-0.311169353699879| 1.46817697209427|-0.470400525259478| 0.207971241929242|0.0257905801985591| 0.403992960255733|  0.251412098239705|-0.018306777944153| 0.277837575558899|-0.110473910188767|0.0669280749146731|0.128539358273528|-0.189114843888824|   0.133558376740387|-0.0210530534538215|149.62|    0|\n",
            "| 0.0|1.19185711131486|   0.26615071205963|0.16648011335321|0.448154078460911|0.0600176492822243|-0.0823608088155687|-0.0788029833323113|0.0851016549148104|-0.255425128109186|-0.166974414004614|  1.61272666105479|  1.06523531137287|  0.48909501589608|-0.143772296441519|0.635558093258208| 0.463917041022171|-0.114804663102346|-0.183361270123994|-0.145783041325259|-0.0690831352230203|-0.225775248033138|-0.638671952771851| 0.101288021253234|-0.339846475529127|0.167170404418143| 0.125894532368176|-0.00898309914322813| 0.0147241691924927|  2.69|    0|\n",
            "+----+----------------+-------------------+----------------+-----------------+------------------+-------------------+-------------------+------------------+------------------+------------------+------------------+------------------+------------------+------------------+-----------------+------------------+------------------+------------------+------------------+-------------------+------------------+------------------+------------------+------------------+-----------------+------------------+--------------------+-------------------+------+-----+\n",
            "only showing top 2 rows\n",
            "\n"
          ]
        }
      ]
    },
    {
      "cell_type": "markdown",
      "source": [
        "Pyspark dataframe to Pandas."
      ],
      "metadata": {
        "id": "KulH5xGRPsR1"
      }
    },
    {
      "cell_type": "code",
      "source": [
        "df.toPandas().head()"
      ],
      "metadata": {
        "colab": {
          "base_uri": "https://localhost:8080/",
          "height": 299
        },
        "id": "b_5iGKuIPvOr",
        "outputId": "f13be343-84ae-4854-8fa5-f235d61c7911"
      },
      "execution_count": 42,
      "outputs": [
        {
          "output_type": "execute_result",
          "data": {
            "text/plain": [
              "   Time        V1        V2        V3        V4        V5        V6        V7  \\\n",
              "0   0.0 -1.359807 -0.072781  2.536347  1.378155 -0.338321  0.462388  0.239599   \n",
              "1   0.0  1.191857  0.266151  0.166480  0.448154  0.060018 -0.082361 -0.078803   \n",
              "2   1.0 -1.358354 -1.340163  1.773209  0.379780 -0.503198  1.800499  0.791461   \n",
              "3   1.0 -0.966272 -0.185226  1.792993 -0.863291 -0.010309  1.247203  0.237609   \n",
              "4   2.0 -1.158233  0.877737  1.548718  0.403034 -0.407193  0.095921  0.592941   \n",
              "\n",
              "         V8        V9  ...       V21       V22       V23       V24       V25  \\\n",
              "0  0.098698  0.363787  ... -0.018307  0.277838 -0.110474  0.066928  0.128539   \n",
              "1  0.085102 -0.255425  ... -0.225775 -0.638672  0.101288 -0.339846  0.167170   \n",
              "2  0.247676 -1.514654  ...  0.247998  0.771679  0.909412 -0.689281 -0.327642   \n",
              "3  0.377436 -1.387024  ... -0.108300  0.005274 -0.190321 -1.175575  0.647376   \n",
              "4 -0.270533  0.817739  ... -0.009431  0.798278 -0.137458  0.141267 -0.206010   \n",
              "\n",
              "        V26       V27       V28  Amount  Class  \n",
              "0 -0.189115  0.133558 -0.021053  149.62      0  \n",
              "1  0.125895 -0.008983  0.014724    2.69      0  \n",
              "2 -0.139097 -0.055353 -0.059752  378.66      0  \n",
              "3 -0.221929  0.062723  0.061458  123.50      0  \n",
              "4  0.502292  0.219422  0.215153   69.99      0  \n",
              "\n",
              "[5 rows x 31 columns]"
            ],
            "text/html": [
              "\n",
              "  <div id=\"df-bfd47f4b-c1ed-41d2-bb56-af1c85e45d23\">\n",
              "    <div class=\"colab-df-container\">\n",
              "      <div>\n",
              "<style scoped>\n",
              "    .dataframe tbody tr th:only-of-type {\n",
              "        vertical-align: middle;\n",
              "    }\n",
              "\n",
              "    .dataframe tbody tr th {\n",
              "        vertical-align: top;\n",
              "    }\n",
              "\n",
              "    .dataframe thead th {\n",
              "        text-align: right;\n",
              "    }\n",
              "</style>\n",
              "<table border=\"1\" class=\"dataframe\">\n",
              "  <thead>\n",
              "    <tr style=\"text-align: right;\">\n",
              "      <th></th>\n",
              "      <th>Time</th>\n",
              "      <th>V1</th>\n",
              "      <th>V2</th>\n",
              "      <th>V3</th>\n",
              "      <th>V4</th>\n",
              "      <th>V5</th>\n",
              "      <th>V6</th>\n",
              "      <th>V7</th>\n",
              "      <th>V8</th>\n",
              "      <th>V9</th>\n",
              "      <th>...</th>\n",
              "      <th>V21</th>\n",
              "      <th>V22</th>\n",
              "      <th>V23</th>\n",
              "      <th>V24</th>\n",
              "      <th>V25</th>\n",
              "      <th>V26</th>\n",
              "      <th>V27</th>\n",
              "      <th>V28</th>\n",
              "      <th>Amount</th>\n",
              "      <th>Class</th>\n",
              "    </tr>\n",
              "  </thead>\n",
              "  <tbody>\n",
              "    <tr>\n",
              "      <th>0</th>\n",
              "      <td>0.0</td>\n",
              "      <td>-1.359807</td>\n",
              "      <td>-0.072781</td>\n",
              "      <td>2.536347</td>\n",
              "      <td>1.378155</td>\n",
              "      <td>-0.338321</td>\n",
              "      <td>0.462388</td>\n",
              "      <td>0.239599</td>\n",
              "      <td>0.098698</td>\n",
              "      <td>0.363787</td>\n",
              "      <td>...</td>\n",
              "      <td>-0.018307</td>\n",
              "      <td>0.277838</td>\n",
              "      <td>-0.110474</td>\n",
              "      <td>0.066928</td>\n",
              "      <td>0.128539</td>\n",
              "      <td>-0.189115</td>\n",
              "      <td>0.133558</td>\n",
              "      <td>-0.021053</td>\n",
              "      <td>149.62</td>\n",
              "      <td>0</td>\n",
              "    </tr>\n",
              "    <tr>\n",
              "      <th>1</th>\n",
              "      <td>0.0</td>\n",
              "      <td>1.191857</td>\n",
              "      <td>0.266151</td>\n",
              "      <td>0.166480</td>\n",
              "      <td>0.448154</td>\n",
              "      <td>0.060018</td>\n",
              "      <td>-0.082361</td>\n",
              "      <td>-0.078803</td>\n",
              "      <td>0.085102</td>\n",
              "      <td>-0.255425</td>\n",
              "      <td>...</td>\n",
              "      <td>-0.225775</td>\n",
              "      <td>-0.638672</td>\n",
              "      <td>0.101288</td>\n",
              "      <td>-0.339846</td>\n",
              "      <td>0.167170</td>\n",
              "      <td>0.125895</td>\n",
              "      <td>-0.008983</td>\n",
              "      <td>0.014724</td>\n",
              "      <td>2.69</td>\n",
              "      <td>0</td>\n",
              "    </tr>\n",
              "    <tr>\n",
              "      <th>2</th>\n",
              "      <td>1.0</td>\n",
              "      <td>-1.358354</td>\n",
              "      <td>-1.340163</td>\n",
              "      <td>1.773209</td>\n",
              "      <td>0.379780</td>\n",
              "      <td>-0.503198</td>\n",
              "      <td>1.800499</td>\n",
              "      <td>0.791461</td>\n",
              "      <td>0.247676</td>\n",
              "      <td>-1.514654</td>\n",
              "      <td>...</td>\n",
              "      <td>0.247998</td>\n",
              "      <td>0.771679</td>\n",
              "      <td>0.909412</td>\n",
              "      <td>-0.689281</td>\n",
              "      <td>-0.327642</td>\n",
              "      <td>-0.139097</td>\n",
              "      <td>-0.055353</td>\n",
              "      <td>-0.059752</td>\n",
              "      <td>378.66</td>\n",
              "      <td>0</td>\n",
              "    </tr>\n",
              "    <tr>\n",
              "      <th>3</th>\n",
              "      <td>1.0</td>\n",
              "      <td>-0.966272</td>\n",
              "      <td>-0.185226</td>\n",
              "      <td>1.792993</td>\n",
              "      <td>-0.863291</td>\n",
              "      <td>-0.010309</td>\n",
              "      <td>1.247203</td>\n",
              "      <td>0.237609</td>\n",
              "      <td>0.377436</td>\n",
              "      <td>-1.387024</td>\n",
              "      <td>...</td>\n",
              "      <td>-0.108300</td>\n",
              "      <td>0.005274</td>\n",
              "      <td>-0.190321</td>\n",
              "      <td>-1.175575</td>\n",
              "      <td>0.647376</td>\n",
              "      <td>-0.221929</td>\n",
              "      <td>0.062723</td>\n",
              "      <td>0.061458</td>\n",
              "      <td>123.50</td>\n",
              "      <td>0</td>\n",
              "    </tr>\n",
              "    <tr>\n",
              "      <th>4</th>\n",
              "      <td>2.0</td>\n",
              "      <td>-1.158233</td>\n",
              "      <td>0.877737</td>\n",
              "      <td>1.548718</td>\n",
              "      <td>0.403034</td>\n",
              "      <td>-0.407193</td>\n",
              "      <td>0.095921</td>\n",
              "      <td>0.592941</td>\n",
              "      <td>-0.270533</td>\n",
              "      <td>0.817739</td>\n",
              "      <td>...</td>\n",
              "      <td>-0.009431</td>\n",
              "      <td>0.798278</td>\n",
              "      <td>-0.137458</td>\n",
              "      <td>0.141267</td>\n",
              "      <td>-0.206010</td>\n",
              "      <td>0.502292</td>\n",
              "      <td>0.219422</td>\n",
              "      <td>0.215153</td>\n",
              "      <td>69.99</td>\n",
              "      <td>0</td>\n",
              "    </tr>\n",
              "  </tbody>\n",
              "</table>\n",
              "<p>5 rows × 31 columns</p>\n",
              "</div>\n",
              "      <button class=\"colab-df-convert\" onclick=\"convertToInteractive('df-bfd47f4b-c1ed-41d2-bb56-af1c85e45d23')\"\n",
              "              title=\"Convert this dataframe to an interactive table.\"\n",
              "              style=\"display:none;\">\n",
              "        \n",
              "  <svg xmlns=\"http://www.w3.org/2000/svg\" height=\"24px\"viewBox=\"0 0 24 24\"\n",
              "       width=\"24px\">\n",
              "    <path d=\"M0 0h24v24H0V0z\" fill=\"none\"/>\n",
              "    <path d=\"M18.56 5.44l.94 2.06.94-2.06 2.06-.94-2.06-.94-.94-2.06-.94 2.06-2.06.94zm-11 1L8.5 8.5l.94-2.06 2.06-.94-2.06-.94L8.5 2.5l-.94 2.06-2.06.94zm10 10l.94 2.06.94-2.06 2.06-.94-2.06-.94-.94-2.06-.94 2.06-2.06.94z\"/><path d=\"M17.41 7.96l-1.37-1.37c-.4-.4-.92-.59-1.43-.59-.52 0-1.04.2-1.43.59L10.3 9.45l-7.72 7.72c-.78.78-.78 2.05 0 2.83L4 21.41c.39.39.9.59 1.41.59.51 0 1.02-.2 1.41-.59l7.78-7.78 2.81-2.81c.8-.78.8-2.07 0-2.86zM5.41 20L4 18.59l7.72-7.72 1.47 1.35L5.41 20z\"/>\n",
              "  </svg>\n",
              "      </button>\n",
              "      \n",
              "  <style>\n",
              "    .colab-df-container {\n",
              "      display:flex;\n",
              "      flex-wrap:wrap;\n",
              "      gap: 12px;\n",
              "    }\n",
              "\n",
              "    .colab-df-convert {\n",
              "      background-color: #E8F0FE;\n",
              "      border: none;\n",
              "      border-radius: 50%;\n",
              "      cursor: pointer;\n",
              "      display: none;\n",
              "      fill: #1967D2;\n",
              "      height: 32px;\n",
              "      padding: 0 0 0 0;\n",
              "      width: 32px;\n",
              "    }\n",
              "\n",
              "    .colab-df-convert:hover {\n",
              "      background-color: #E2EBFA;\n",
              "      box-shadow: 0px 1px 2px rgba(60, 64, 67, 0.3), 0px 1px 3px 1px rgba(60, 64, 67, 0.15);\n",
              "      fill: #174EA6;\n",
              "    }\n",
              "\n",
              "    [theme=dark] .colab-df-convert {\n",
              "      background-color: #3B4455;\n",
              "      fill: #D2E3FC;\n",
              "    }\n",
              "\n",
              "    [theme=dark] .colab-df-convert:hover {\n",
              "      background-color: #434B5C;\n",
              "      box-shadow: 0px 1px 3px 1px rgba(0, 0, 0, 0.15);\n",
              "      filter: drop-shadow(0px 1px 2px rgba(0, 0, 0, 0.3));\n",
              "      fill: #FFFFFF;\n",
              "    }\n",
              "  </style>\n",
              "\n",
              "      <script>\n",
              "        const buttonEl =\n",
              "          document.querySelector('#df-bfd47f4b-c1ed-41d2-bb56-af1c85e45d23 button.colab-df-convert');\n",
              "        buttonEl.style.display =\n",
              "          google.colab.kernel.accessAllowed ? 'block' : 'none';\n",
              "\n",
              "        async function convertToInteractive(key) {\n",
              "          const element = document.querySelector('#df-bfd47f4b-c1ed-41d2-bb56-af1c85e45d23');\n",
              "          const dataTable =\n",
              "            await google.colab.kernel.invokeFunction('convertToInteractive',\n",
              "                                                     [key], {});\n",
              "          if (!dataTable) return;\n",
              "\n",
              "          const docLinkHtml = 'Like what you see? Visit the ' +\n",
              "            '<a target=\"_blank\" href=https://colab.research.google.com/notebooks/data_table.ipynb>data table notebook</a>'\n",
              "            + ' to learn more about interactive tables.';\n",
              "          element.innerHTML = '';\n",
              "          dataTable['output_type'] = 'display_data';\n",
              "          await google.colab.output.renderOutput(dataTable, element);\n",
              "          const docLink = document.createElement('div');\n",
              "          docLink.innerHTML = docLinkHtml;\n",
              "          element.appendChild(docLink);\n",
              "        }\n",
              "      </script>\n",
              "    </div>\n",
              "  </div>\n",
              "  "
            ]
          },
          "metadata": {},
          "execution_count": 42
        }
      ]
    },
    {
      "cell_type": "markdown",
      "source": [
        "To Train the model in Pyspark is required to pass the features in a vector."
      ],
      "metadata": {
        "id": "P8p7oOVyQAmx"
      }
    },
    {
      "cell_type": "code",
      "source": [
        "stages = []\n",
        "assemblerInputs = numericCols\n",
        "assembler = VectorAssembler(inputCols=assemblerInputs, \n",
        "outputCol=\"features\")\n",
        "stages += [assembler]\n",
        "dfFeatures = df.select(F.col(labelColumn).alias('label'), *numericCols )"
      ],
      "metadata": {
        "id": "CvNGoWvyQJw0"
      },
      "execution_count": 43,
      "outputs": []
    },
    {
      "cell_type": "code",
      "source": [
        "dfFeatures.show(2)"
      ],
      "metadata": {
        "colab": {
          "base_uri": "https://localhost:8080/"
        },
        "id": "tn8BUM44QS5x",
        "outputId": "99c03c28-947f-4b65-9e73-583c12c61242"
      },
      "execution_count": 44,
      "outputs": [
        {
          "output_type": "stream",
          "name": "stdout",
          "text": [
            "+-----+----+----------------+-------------------+----------------+-----------------+------------------+-------------------+-------------------+------------------+------------------+------------------+------------------+------------------+------------------+------------------+-----------------+------------------+------------------+------------------+------------------+-------------------+------------------+------------------+------------------+------------------+-----------------+------------------+--------------------+-------------------+------+\n",
            "|label|Time|              V1|                 V2|              V3|               V4|                V5|                 V6|                 V7|                V8|                V9|               V10|               V11|               V12|               V13|               V14|              V15|               V16|               V17|               V18|               V19|                V20|               V21|               V22|               V23|               V24|              V25|               V26|                 V27|                V28|Amount|\n",
            "+-----+----+----------------+-------------------+----------------+-----------------+------------------+-------------------+-------------------+------------------+------------------+------------------+------------------+------------------+------------------+------------------+-----------------+------------------+------------------+------------------+------------------+-------------------+------------------+------------------+------------------+------------------+-----------------+------------------+--------------------+-------------------+------+\n",
            "|    0| 0.0|-1.3598071336738|-0.0727811733098497|2.53634673796914| 1.37815522427443|-0.338320769942518|  0.462387777762292|  0.239598554061257|0.0986979012610507| 0.363786969611213|0.0907941719789316|-0.551599533260813|-0.617800855762348|-0.991389847235408|-0.311169353699879| 1.46817697209427|-0.470400525259478| 0.207971241929242|0.0257905801985591| 0.403992960255733|  0.251412098239705|-0.018306777944153| 0.277837575558899|-0.110473910188767|0.0669280749146731|0.128539358273528|-0.189114843888824|   0.133558376740387|-0.0210530534538215|149.62|\n",
            "|    0| 0.0|1.19185711131486|   0.26615071205963|0.16648011335321|0.448154078460911|0.0600176492822243|-0.0823608088155687|-0.0788029833323113|0.0851016549148104|-0.255425128109186|-0.166974414004614|  1.61272666105479|  1.06523531137287|  0.48909501589608|-0.143772296441519|0.635558093258208| 0.463917041022171|-0.114804663102346|-0.183361270123994|-0.145783041325259|-0.0690831352230203|-0.225775248033138|-0.638671952771851| 0.101288021253234|-0.339846475529127|0.167170404418143| 0.125894532368176|-0.00898309914322813| 0.0147241691924927|  2.69|\n",
            "+-----+----+----------------+-------------------+----------------+-----------------+------------------+-------------------+-------------------+------------------+------------------+------------------+------------------+------------------+------------------+------------------+-----------------+------------------+------------------+------------------+------------------+-------------------+------------------+------------------+------------------+------------------+-----------------+------------------+--------------------+-------------------+------+\n",
            "only showing top 2 rows\n",
            "\n"
          ]
        }
      ]
    },
    {
      "cell_type": "markdown",
      "source": [
        " Define normal and anomaly data splits."
      ],
      "metadata": {
        "id": "sFLd7lDxS2Nl"
      }
    },
    {
      "cell_type": "code",
      "source": [
        "normal = dfFeatures.filter(\"Class == 0\").sample(withReplacement=False, fraction=0.5, seed=2020)\n",
        "anomaly = dfFeatures.filter(\"Class == 1\")"
      ],
      "metadata": {
        "id": "kElXo8B-QeDy"
      },
      "execution_count": 48,
      "outputs": []
    },
    {
      "cell_type": "code",
      "source": [
        "normal_train, normal_test = normal.randomSplit([0.8, 0.2], seed = 2020)\n",
        "anomaly_train, anomaly_test = anomaly.randomSplit([0.8, 0.2], seed = 2020)"
      ],
      "metadata": {
        "id": "x0L0VZj-TIPE"
      },
      "execution_count": 49,
      "outputs": []
    },
    {
      "cell_type": "markdown",
      "source": [
        "Combine the normal and anomaly splits to form training and testing sets (no validation set)."
      ],
      "metadata": {
        "id": "0Y0hftJTTTib"
      }
    },
    {
      "cell_type": "code",
      "source": [
        "# Combine datasets with PySpark’s functionality\n",
        "train = normal_train.union(anomaly_train)\n",
        "test = normal_test.union(anomaly_test)"
      ],
      "metadata": {
        "id": "WZ01sq6mTZuU"
      },
      "execution_count": 51,
      "outputs": []
    },
    {
      "cell_type": "markdown",
      "source": [
        "Finish the rest of the pipeline and create the feature vector that the logistic regression model will train on."
      ],
      "metadata": {
        "id": "tQ8WH9sOUiGj"
      }
    },
    {
      "cell_type": "code",
      "source": [
        "# Define pipeline\n",
        "pipeline = Pipeline(stages = stages)\n",
        "pipelineModel = pipeline.fit(dfFeatures)\n",
        "\n",
        "# Apply pipeline model to train and test datasets\n",
        "train = pipelineModel.transform(train)\n",
        "test = pipelineModel.transform(test)\n",
        "\n",
        "#Select numeric columns\n",
        "selectedCols = ['label', 'features'] + numericCols\n",
        "\n",
        "train = train.select(selectedCols)\n",
        "test = test.select(selectedCols)\n",
        "print(\"Training Dataset Count: \", train.count())\n",
        "print(\"Test Dataset Count: \", test.count())"
      ],
      "metadata": {
        "colab": {
          "base_uri": "https://localhost:8080/"
        },
        "id": "DC7KEUq2UGfq",
        "outputId": "6b95765d-8041-4ff6-e070-f09eeab8c0a1"
      },
      "execution_count": 53,
      "outputs": [
        {
          "output_type": "stream",
          "name": "stdout",
          "text": [
            "Training Dataset Count:  114138\n",
            "Test Dataset Count:  28608\n"
          ]
        }
      ]
    },
    {
      "cell_type": "markdown",
      "source": [
        "Define and train de model."
      ],
      "metadata": {
        "id": "bo-1876BWHtU"
      }
    },
    {
      "cell_type": "code",
      "source": [
        "# Logistic regression model\n",
        "lr = LogisticRegressionPySpark(featuresCol = 'features', labelCol = 'label', maxIter=12)\n",
        "lrModel = lr.fit(train)\n",
        "trainingSummary = lrModel.summary\n",
        "pyspark_auc_score = trainingSummary.areaUnderROC"
      ],
      "metadata": {
        "id": "45Ch9NRvWJYv"
      },
      "execution_count": 54,
      "outputs": []
    },
    {
      "cell_type": "markdown",
      "source": [
        "Model evaluation"
      ],
      "metadata": {
        "id": "wHbPdgREWnr_"
      }
    },
    {
      "cell_type": "code",
      "source": [
        "predictions = lrModel.transform(test)\n",
        "y_true = predictions.select(['label']).collect()\n",
        "y_pred = predictions.select(['prediction']).collect()\n",
        "\n",
        "evaluations = lrModel.evaluate(test)\n",
        "accuracy = evaluations.accuracy\n",
        "\n",
        "# Metrics\n",
        "print(f\"AUC Scikit-learn Score: {roc_auc_score(y_pred, y_true):.2%}\")\n",
        "print(f\"PySpark AUC Score: {pyspark_auc_score:.2%}\")\n",
        "print(f\"Accuracy Score: {accuracy:.%}\")"
      ],
      "metadata": {
        "colab": {
          "base_uri": "https://localhost:8080/"
        },
        "id": "_O0zIgxeWzxY",
        "outputId": "2d9f22e9-a105-47a0-be5f-103cd6359f99"
      },
      "execution_count": 57,
      "outputs": [
        {
          "output_type": "stream",
          "name": "stdout",
          "text": [
            "AUC Scikit-learn Score: 95.67%\n",
            "PySpark AUC Score: 98.62%\n",
            "Accuracy Score: 99.90%\n"
          ]
        }
      ]
    },
    {
      "cell_type": "markdown",
      "source": [
        "Plot the ROC curve."
      ],
      "metadata": {
        "id": "A0atijFkXont"
      }
    },
    {
      "cell_type": "code",
      "source": [
        "# ROC to Pandas\n",
        "pyspark_roc = trainingSummary.roc.toPandas()\n",
        "plt.xlabel('False Positive Rate')\n",
        "plt.ylabel('True Positive Rate')\n",
        "plt.title('PySpark ROC Curve')\n",
        "plt.plot(pyspark_roc['FPR'],pyspark_roc['TPR'])"
      ],
      "metadata": {
        "colab": {
          "base_uri": "https://localhost:8080/",
          "height": 422
        },
        "id": "GMtUlvM4Xrs_",
        "outputId": "776edb93-1959-401e-e899-1c51c317bf6b"
      },
      "execution_count": 58,
      "outputs": [
        {
          "output_type": "execute_result",
          "data": {
            "text/plain": [
              "[<matplotlib.lines.Line2D at 0x7fed9f77d8e0>]"
            ]
          },
          "metadata": {},
          "execution_count": 58
        },
        {
          "output_type": "display_data",
          "data": {
            "text/plain": [
              "<Figure size 864x432 with 1 Axes>"
            ],
            "image/png": "[encoded data removed]"
          },
          "metadata": {
            "needs_background": "light"
          }
        }
      ]
    },
    {
      "cell_type": "markdown",
      "source": [
        "The ROC curve for the PySpark logistic regression model shows satisfactory performance. The area (AUC) of ROC curve was 0.986 (ideal AUC score = 1)."
      ],
      "metadata": {
        "id": "gtCMhw8FXnJG"
      }
    },
    {
      "cell_type": "markdown",
      "source": [
        "Plot the confusion matrix."
      ],
      "metadata": {
        "id": "rha0LgZjY_Py"
      }
    },
    {
      "cell_type": "code",
      "source": [
        "conf_matrix = confusion_matrix(y_true, y_pred)\n",
        "ax = sns.heatmap(conf_matrix, annot=True,fmt='g')\n",
        "ax.invert_xaxis()\n",
        "ax.invert_yaxis()\n",
        "plt.ylabel('Actual')\n",
        "plt.xlabel('Predicted')"
      ],
      "metadata": {
        "colab": {
          "base_uri": "https://localhost:8080/",
          "height": 406
        },
        "id": "jTekbu96Y7Ou",
        "outputId": "6f0cb1c5-2c04-4f32-e47a-13d5371627f6"
      },
      "execution_count": 59,
      "outputs": [
        {
          "output_type": "execute_result",
          "data": {
            "text/plain": [
              "Text(0.5, 33.0, 'Predicted')"
            ]
          },
          "metadata": {},
          "execution_count": 59
        },
        {
          "output_type": "display_data",
          "data": {
            "text/plain": [
              "<Figure size 864x432 with 2 Axes>"
            ],
            "image/png": "[encoded data removed]"
          },
          "metadata": {
            "needs_background": "light"
          }
        }
      ]
    },
    {
      "cell_type": "markdown",
      "source": [
        "The accuracy of correctly labeled points for the normal data is relatively high and is satisfactory for the anomalous data. Better metrics using Pyspark Logistric Regression model were obtained, without hyperparameter tuning.\n",
        "\n",
        "PySpark has an option to weight the data through sample-by-sample basis. This is performed creating a column in the dataframe with each anomaly being weighted a certain amount and each normal point being weighted as 1  (by default everything is weighted as 1). For this reason, PySpark model may have a greater potential in performance than the scikit-learn model.\n"
      ],
      "metadata": {
        "id": "J4hLGPz8ZMzt"
      }
    }
  ]
}