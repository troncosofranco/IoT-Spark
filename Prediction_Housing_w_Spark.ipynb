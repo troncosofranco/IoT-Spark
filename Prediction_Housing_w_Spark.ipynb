{
  "nbformat": 4,
  "nbformat_minor": 0,
  "metadata": {
    "colab": {
      "provenance": [],
      "authorship_tag": "ABX9TyPaA0PlyWk+FNtlPKrFXkVe",
      "include_colab_link": true
    },
    "kernelspec": {
      "name": "python3",
      "display_name": "Python 3"
    },
    "language_info": {
      "name": "python"
    }
  },
  "cells": [
    {
      "cell_type": "markdown",
      "metadata": {
        "id": "view-in-github",
        "colab_type": "text"
      },
      "source": [
        "<a href=\"https://colab.research.google.com/github/troncosofranco/IoT-Spark/blob/main/Prediction_Housing_w_Spark.ipynb\" target=\"_parent\"><img src=\"https://colab.research.google.com/assets/colab-badge.svg\" alt=\"Open In Colab\"/></a>"
      ]
    },
    {
      "cell_type": "markdown",
      "source": [
        "#House Prices Prediction with Apache Spark\n",
        "\n",
        "### 1. About Spark\n",
        "Apache Spark is an Open source analytical processing engine for large scale powerful distributed data processing and machine learning applications. Multiple frameworks can be employed:\n",
        "- **Spark:** Default interface for Scala and Java\n",
        "- **PySpark:** Python interface for Spark\n",
        "- **SparklyR:** R interface for Spark.\n",
        "\n",
        "### 2. Apache Spark Features\n",
        "Apache Spark presents the following features:\n",
        "- Distributed processing using parallelize\n",
        "- Can be used with many cluster managers (Spark, Yarn, Mesos e.t.c)\n",
        "- Immutable\n",
        "- Lazy evaluation\n",
        "- Cache & persistence\n",
        "- Inbuild-optimization when using DataFrames\n",
        "- ANSI SQL support\n",
        "\n",
        "###3. Apache Spark Advantages\n",
        "- Distributed processing engine.\n",
        "- Applications running on Spark are 100x faster than traditional systems.\n",
        "- Great benefits using Spark for data ingestion pipelines.\n",
        "- Compatible with Hadoop HDFS, AWS S3, Databricks DBFS, Azure Blob Storage, and many file systems.\n",
        "- Real-time data processing using *Streaming* and *Kafka*.\n",
        "- Spark natively has machine learning and graph libraries.\n",
        "\n",
        "###4. Apache Spark Architecture\n",
        "Apache contains *Driver* and *Workers*. The resources are managed by Cluster Manager. Spark Driver creates a context that is an entry point to the application, and all operations (transformations and actions) are executed on worker nodes. \n",
        "\n",
        "###5. Cluster manager types\n",
        "\n",
        "Spark supports the following cluster managers:\n",
        "- **Standalone**: Simple cluster manager included with Spark that contributes to set up a cluster.\n",
        "- **Apache Mesos:** It also runs Hadoop MapReduce and Spark applications.\n",
        "- **Hadoop YARN** The resource manager in Hadoop 2. This is mostly used cluster manager.\n",
        "- **Kubernetes:** Open-source system for automating deployment, scaling, and management of containerized applications.\n",
        "- **Local:** It runs Spark on your computer."
      ],
      "metadata": {
        "id": "fUCB_n5KSkV1"
      }
    },
    {
      "cell_type": "markdown",
      "source": [
        "#1. Import libraries"
      ],
      "metadata": {
        "id": "-EBsgTzd4fyq"
      }
    },
    {
      "cell_type": "code",
      "source": [
        "#!pip install pyspark -q\n",
        "import pyspark\n",
        "import os\n",
        "import pandas as pd\n",
        "import numpy as np\n",
        "\n",
        "from pyspark import SparkConf, SparkContext\n",
        "from pyspark.sql import SparkSession, SQLContext\n",
        "\n",
        "from pyspark.sql.types import *\n",
        "import pyspark.sql.functions as F\n",
        "from pyspark.sql.functions import udf, col\n",
        "\n",
        "from pyspark.ml.regression import LinearRegression\n",
        "from pyspark.mllib.evaluation import RegressionMetrics\n",
        "\n",
        "from pyspark.ml.tuning import ParamGridBuilder, CrossValidator, CrossValidatorModel\n",
        "from pyspark.ml.feature import VectorAssembler, StandardScaler\n",
        "from pyspark.ml.evaluation import RegressionEvaluator\n",
        "\n",
        "import seaborn as sns\n",
        "import matplotlib.pyplot as plt"
      ],
      "metadata": {
        "id": "3LHVxhi44iJE"
      },
      "execution_count": null,
      "outputs": []
    },
    {
      "cell_type": "markdown",
      "source": [
        "Define visualization parameters"
      ],
      "metadata": {
        "id": "Afczy2ce5J00"
      }
    },
    {
      "cell_type": "code",
      "source": [
        "from IPython.core.interactiveshell import InteractiveShell\n",
        "InteractiveShell.ast_node_interactivity = \"all\"\n",
        "\n",
        "pd.set_option('display.max_columns', 200)\n",
        "pd.set_option('display.max_colwidth', 400)\n",
        "\n",
        "from matplotlib import rcParams\n",
        "sns.set(context='notebook', style='whitegrid', rc={'figure.figsize': (18,4)})\n",
        "rcParams['figure.figsize'] = 18,4\n",
        "\n",
        "%matplotlib inline\n",
        "%config InlineBackend.figure_format = 'retina'"
      ],
      "metadata": {
        "id": "S53mjFKJ5SYC"
      },
      "execution_count": null,
      "outputs": []
    },
    {
      "cell_type": "markdown",
      "source": [
        "Set random seed for notebook reproducibility\n"
      ],
      "metadata": {
        "id": "taH6xHkX5a2H"
      }
    },
    {
      "cell_type": "code",
      "source": [
        "rnd_seed=23\n",
        "np.random.seed=rnd_seed\n",
        "np.random.set_state=rnd_seed"
      ],
      "metadata": {
        "id": "FDY3L2SF5iEJ"
      },
      "execution_count": null,
      "outputs": []
    },
    {
      "cell_type": "markdown",
      "source": [
        "#2. Create Spark Session"
      ],
      "metadata": {
        "id": "QHbli-2A5xJ8"
      }
    },
    {
      "cell_type": "code",
      "source": [
        "spark = SparkSession.builder.master('local[2]').appName('Housing-Price-Prediction').getOrCreate()"
      ],
      "metadata": {
        "id": "JnD5u64v5z7p"
      },
      "execution_count": null,
      "outputs": []
    },
    {
      "cell_type": "code",
      "source": [
        "spark"
      ],
      "metadata": {
        "colab": {
          "base_uri": "https://localhost:8080/",
          "height": 222
        },
        "id": "boCmpxVF6RbA",
        "outputId": "3e8a642b-a430-4f28-a1c6-7c9b94a99c72"
      },
      "execution_count": null,
      "outputs": [
        {
          "output_type": "execute_result",
          "data": {
            "text/plain": [
              "<pyspark.sql.session.SparkSession at 0x7f2638cc24c0>"
            ],
            "text/html": [
              "\n",
              "            <div>\n",
              "                <p><b>SparkSession - in-memory</b></p>\n",
              "                \n",
              "        <div>\n",
              "            <p><b>SparkContext</b></p>\n",
              "\n",
              "            <p><a href=\"http://f89234b29fba:4040\">Spark UI</a></p>\n",
              "\n",
              "            <dl>\n",
              "              <dt>Version</dt>\n",
              "                <dd><code>v3.3.1</code></dd>\n",
              "              <dt>Master</dt>\n",
              "                <dd><code>local[2]</code></dd>\n",
              "              <dt>AppName</dt>\n",
              "                <dd><code>Housing-Price-Prediction</code></dd>\n",
              "            </dl>\n",
              "        </div>\n",
              "        \n",
              "            </div>\n",
              "        "
            ]
          },
          "metadata": {},
          "execution_count": 5
        }
      ]
    },
    {
      "cell_type": "markdown",
      "source": [
        "Define Spark Context"
      ],
      "metadata": {
        "id": "5RFNL7ly6cDk"
      }
    },
    {
      "cell_type": "code",
      "source": [
        "sc = spark.sparkContext\n",
        "sc"
      ],
      "metadata": {
        "colab": {
          "base_uri": "https://localhost:8080/",
          "height": 199
        },
        "id": "G-AEbIPt6X7q",
        "outputId": "1369dfd9-6889-4fdf-eba5-b7a687998594"
      },
      "execution_count": null,
      "outputs": [
        {
          "output_type": "execute_result",
          "data": {
            "text/plain": [
              "<SparkContext master=local[2] appName=Housing-Price-Prediction>"
            ],
            "text/html": [
              "\n",
              "        <div>\n",
              "            <p><b>SparkContext</b></p>\n",
              "\n",
              "            <p><a href=\"http://f89234b29fba:4040\">Spark UI</a></p>\n",
              "\n",
              "            <dl>\n",
              "              <dt>Version</dt>\n",
              "                <dd><code>v3.3.1</code></dd>\n",
              "              <dt>Master</dt>\n",
              "                <dd><code>local[2]</code></dd>\n",
              "              <dt>AppName</dt>\n",
              "                <dd><code>Housing-Price-Prediction</code></dd>\n",
              "            </dl>\n",
              "        </div>\n",
              "        "
            ]
          },
          "metadata": {},
          "execution_count": 6
        }
      ]
    },
    {
      "cell_type": "code",
      "source": [
        "sqlContext = SQLContext(spark.sparkContext)\n",
        "sqlContext"
      ],
      "metadata": {
        "colab": {
          "base_uri": "https://localhost:8080/"
        },
        "id": "7kM-NU5w6yT5",
        "outputId": "a56a375a-de08-41d5-8b60-dad7f1e15567"
      },
      "execution_count": null,
      "outputs": [
        {
          "output_type": "stream",
          "name": "stderr",
          "text": [
            "/usr/local/lib/python3.8/dist-packages/pyspark/sql/context.py:112: FutureWarning: Deprecated in 3.0.0. Use SparkSession.builder.getOrCreate() instead.\n",
            "  warnings.warn(\n"
          ]
        },
        {
          "output_type": "execute_result",
          "data": {
            "text/plain": [
              "<pyspark.sql.context.SQLContext at 0x7f2638cc28e0>"
            ]
          },
          "metadata": {},
          "execution_count": 7
        }
      ]
    },
    {
      "cell_type": "markdown",
      "source": [
        "#3. Load data"
      ],
      "metadata": {
        "id": "0AUhAero8MUc"
      }
    },
    {
      "cell_type": "markdown",
      "source": [
        "Define schema: column names, column selection, and data type"
      ],
      "metadata": {
        "id": "lKQ5fvZ68N6q"
      }
    },
    {
      "cell_type": "code",
      "source": [
        "schema = StructType([\n",
        "    StructField(\"long\", FloatType(), nullable=True),\n",
        "    StructField(\"lat\", FloatType(), nullable=True),\n",
        "    StructField(\"medage\", FloatType(), nullable=True),\n",
        "    StructField(\"totrooms\", FloatType(), nullable=True),\n",
        "    StructField(\"totbdrms\", FloatType(), nullable=True),\n",
        "    StructField(\"pop\", FloatType(), nullable=True),\n",
        "    StructField(\"houshlds\", FloatType(), nullable=True),\n",
        "    StructField(\"medinc\", FloatType(), nullable=True),\n",
        "    StructField(\"medhv\", FloatType(), nullable=True)]\n",
        ")"
      ],
      "metadata": {
        "id": "1MIA0mZ_8PZR"
      },
      "execution_count": null,
      "outputs": []
    },
    {
      "cell_type": "markdown",
      "source": [
        "Load data from csv file"
      ],
      "metadata": {
        "id": "ImJlft2L83wb"
      }
    },
    {
      "cell_type": "code",
      "source": [
        "df = spark.read.csv('housing_data.csv', schema=schema).cache()"
      ],
      "metadata": {
        "id": "8LWOtCOk87HE"
      },
      "execution_count": null,
      "outputs": []
    },
    {
      "cell_type": "markdown",
      "source": [
        "Show top rows"
      ],
      "metadata": {
        "id": "EwaBoR6h-5XU"
      }
    },
    {
      "cell_type": "code",
      "source": [
        "#df.take(5)\n",
        "df.show()"
      ],
      "metadata": {
        "colab": {
          "base_uri": "https://localhost:8080/"
        },
        "id": "8UIl7P0P-8fw",
        "outputId": "bf253bf0-e6d0-4d34-9e54-c3d3bd916a9a"
      },
      "execution_count": null,
      "outputs": [
        {
          "output_type": "stream",
          "name": "stdout",
          "text": [
            "+-------+-----+------+--------+--------+------+--------+------+--------+\n",
            "|   long|  lat|medage|totrooms|totbdrms|   pop|houshlds|medinc|   medhv|\n",
            "+-------+-----+------+--------+--------+------+--------+------+--------+\n",
            "|   null| null|  null|    null|    null|  null|    null|  null|    null|\n",
            "|-122.23|37.88|  41.0|   880.0|   129.0| 322.0|   126.0|8.3252|452600.0|\n",
            "|-122.22|37.86|  21.0|  7099.0|  1106.0|2401.0|  1138.0|8.3014|358500.0|\n",
            "|-122.24|37.85|  52.0|  1467.0|   190.0| 496.0|   177.0|7.2574|352100.0|\n",
            "|-122.25|37.85|  52.0|  1274.0|   235.0| 558.0|   219.0|5.6431|341300.0|\n",
            "|-122.25|37.85|  52.0|  1627.0|   280.0| 565.0|   259.0|3.8462|342200.0|\n",
            "|-122.25|37.85|  52.0|   919.0|   213.0| 413.0|   193.0|4.0368|269700.0|\n",
            "|-122.25|37.84|  52.0|  2535.0|   489.0|1094.0|   514.0|3.6591|299200.0|\n",
            "|-122.25|37.84|  52.0|  3104.0|   687.0|1157.0|   647.0|  3.12|241400.0|\n",
            "|-122.26|37.84|  42.0|  2555.0|   665.0|1206.0|   595.0|2.0804|226700.0|\n",
            "|-122.25|37.84|  52.0|  3549.0|   707.0|1551.0|   714.0|3.6912|261100.0|\n",
            "|-122.26|37.85|  52.0|  2202.0|   434.0| 910.0|   402.0|3.2031|281500.0|\n",
            "|-122.26|37.85|  52.0|  3503.0|   752.0|1504.0|   734.0|3.2705|241800.0|\n",
            "|-122.26|37.85|  52.0|  2491.0|   474.0|1098.0|   468.0| 3.075|213500.0|\n",
            "|-122.26|37.84|  52.0|   696.0|   191.0| 345.0|   174.0|2.6736|191300.0|\n",
            "|-122.26|37.85|  52.0|  2643.0|   626.0|1212.0|   620.0|1.9167|159200.0|\n",
            "|-122.26|37.85|  50.0|  1120.0|   283.0| 697.0|   264.0| 2.125|140000.0|\n",
            "|-122.27|37.85|  52.0|  1966.0|   347.0| 793.0|   331.0| 2.775|152500.0|\n",
            "|-122.27|37.85|  52.0|  1228.0|   293.0| 648.0|   303.0|2.1202|155500.0|\n",
            "|-122.26|37.84|  50.0|  2239.0|   455.0| 990.0|   419.0|1.9911|158700.0|\n",
            "+-------+-----+------+--------+--------+------+--------+------+--------+\n",
            "only showing top 20 rows\n",
            "\n"
          ]
        }
      ]
    },
    {
      "cell_type": "markdown",
      "source": [
        "Show dataframe columns"
      ],
      "metadata": {
        "id": "vme3ugZL_KXF"
      }
    },
    {
      "cell_type": "code",
      "source": [
        "df.columns"
      ],
      "metadata": {
        "colab": {
          "base_uri": "https://localhost:8080/"
        },
        "id": "uJR6Rt30_MjA",
        "outputId": "33279fcf-36ff-4516-d2be-aa801867cec4"
      },
      "execution_count": null,
      "outputs": [
        {
          "output_type": "execute_result",
          "data": {
            "text/plain": [
              "['long',\n",
              " 'lat',\n",
              " 'medage',\n",
              " 'totrooms',\n",
              " 'totbdrms',\n",
              " 'pop',\n",
              " 'houshlds',\n",
              " 'medinc',\n",
              " 'medhv']"
            ]
          },
          "metadata": {},
          "execution_count": 11
        }
      ]
    },
    {
      "cell_type": "markdown",
      "source": [
        "Show the Schema of the dataframe"
      ],
      "metadata": {
        "id": "j8FHTbvJ_Sqz"
      }
    },
    {
      "cell_type": "code",
      "source": [
        "df.printSchema()"
      ],
      "metadata": {
        "colab": {
          "base_uri": "https://localhost:8080/"
        },
        "id": "I832fmSi_VI7",
        "outputId": "2cefb0c5-b069-49c4-e962-42ed375dcf2f"
      },
      "execution_count": null,
      "outputs": [
        {
          "output_type": "stream",
          "name": "stdout",
          "text": [
            "root\n",
            " |-- long: float (nullable = true)\n",
            " |-- lat: float (nullable = true)\n",
            " |-- medage: float (nullable = true)\n",
            " |-- totrooms: float (nullable = true)\n",
            " |-- totbdrms: float (nullable = true)\n",
            " |-- pop: float (nullable = true)\n",
            " |-- houshlds: float (nullable = true)\n",
            " |-- medinc: float (nullable = true)\n",
            " |-- medhv: float (nullable = true)\n",
            "\n"
          ]
        }
      ]
    },
    {
      "cell_type": "markdown",
      "source": [
        "#4. Data analysis"
      ],
      "metadata": {
        "id": "u4TughZP_g19"
      }
    },
    {
      "cell_type": "markdown",
      "source": [
        "Run a column selection"
      ],
      "metadata": {
        "id": "rdPzveGK_pLE"
      }
    },
    {
      "cell_type": "code",
      "source": [
        "df.select('medinc', 'medhv').show(5)"
      ],
      "metadata": {
        "colab": {
          "base_uri": "https://localhost:8080/"
        },
        "id": "FydFB5aJ_jh5",
        "outputId": "7e2b7a6c-887a-4a0c-d3c8-45161124f273"
      },
      "execution_count": null,
      "outputs": [
        {
          "output_type": "stream",
          "name": "stdout",
          "text": [
            "+------+--------+\n",
            "|medinc|   medhv|\n",
            "+------+--------+\n",
            "|  null|    null|\n",
            "|8.3252|452600.0|\n",
            "|8.3014|358500.0|\n",
            "|7.2574|352100.0|\n",
            "|5.6431|341300.0|\n",
            "+------+--------+\n",
            "only showing top 5 rows\n",
            "\n"
          ]
        }
      ]
    },
    {
      "cell_type": "markdown",
      "source": [
        "4.1. How is the distribution of the median age of people living in the area?"
      ],
      "metadata": {
        "id": "8LQqUEo7ACt_"
      }
    },
    {
      "cell_type": "code",
      "source": [
        "#group by medage\n",
        "df_age = df.groupBy('medage').count().sort('medage', ascending = False)\n",
        "df_age.show(10)"
      ],
      "metadata": {
        "colab": {
          "base_uri": "https://localhost:8080/"
        },
        "id": "30zoWAN0ALtj",
        "outputId": "26e85076-f248-4edf-8e7c-97dd7dcb25d6"
      },
      "execution_count": null,
      "outputs": [
        {
          "output_type": "stream",
          "name": "stdout",
          "text": [
            "+------+-----+\n",
            "|medage|count|\n",
            "+------+-----+\n",
            "|  52.0| 1273|\n",
            "|  51.0|   48|\n",
            "|  50.0|  136|\n",
            "|  49.0|  134|\n",
            "|  48.0|  177|\n",
            "|  47.0|  198|\n",
            "|  46.0|  245|\n",
            "|  45.0|  294|\n",
            "|  44.0|  356|\n",
            "|  43.0|  353|\n",
            "+------+-----+\n",
            "only showing top 10 rows\n",
            "\n"
          ]
        }
      ]
    },
    {
      "cell_type": "code",
      "source": [
        "#dataframe to pandas and plot\n",
        "df_age.toPandas().plot.bar(x='medage', figsize=(12,8))"
      ],
      "metadata": {
        "colab": {
          "base_uri": "https://localhost:8080/",
          "height": 534
        },
        "id": "RUbcQuIcAoh7",
        "outputId": "b2348ed8-1fbc-4ee3-93fe-71d81afa6ca0"
      },
      "execution_count": null,
      "outputs": [
        {
          "output_type": "execute_result",
          "data": {
            "text/plain": [
              "<matplotlib.axes._subplots.AxesSubplot at 0x7f26381849a0>"
            ]
          },
          "metadata": {},
          "execution_count": 15
        },
        {
          "output_type": "display_data",
          "data": {
            "text/plain": [
              "<Figure size 864x576 with 1 Axes>"
            ],
            "image/png": "[encoded data removed]"
          },
          "metadata": {
            "image/png": {
              "width": 721,
              "height": 499
            },
            "needs_background": "light"
          }
        }
      ]
    },
    {
      "cell_type": "markdown",
      "source": [
        "**Observation:** Most of residents have an average age of 52 year, followed by 33-37 and 15-20 years."
      ],
      "metadata": {
        "id": "fb93cHk8BS1G"
      }
    },
    {
      "cell_type": "markdown",
      "source": [
        "4.2. What is the statistical summary of dataframe?"
      ],
      "metadata": {
        "id": "op0GX_kQC-Di"
      }
    },
    {
      "cell_type": "code",
      "source": [
        "#pyspark.sql.functions as F\n",
        "(df.describe().select(\n",
        "                    \"Summary\",\n",
        "                    F.round(\"medage\", 4).alias(\"medage\"),\n",
        "                    F.round(\"totrooms\", 4).alias(\"totrooms\"),\n",
        "                    F.round(\"totbdrms\", 4).alias(\"totbdrms\"),\n",
        "                    F.round(\"pop\", 4).alias(\"pop\"),\n",
        "                    F.round(\"houshlds\", 4).alias(\"houshlds\"),\n",
        "                    F.round(\"medinc\", 4).alias(\"medinc\"),\n",
        "                    F.round(\"medhv\", 4).alias(\"medhv\"))\n",
        "                    .show())"
      ],
      "metadata": {
        "colab": {
          "base_uri": "https://localhost:8080/"
        },
        "id": "ktjGQdyCDEgU",
        "outputId": "dadf9b93-43f8-4770-8b9e-d1f6dd390c76"
      },
      "execution_count": null,
      "outputs": [
        {
          "output_type": "stream",
          "name": "stdout",
          "text": [
            "+-------+-------+---------+--------+---------+--------+-------+-----------+\n",
            "|Summary| medage| totrooms|totbdrms|      pop|houshlds| medinc|      medhv|\n",
            "+-------+-------+---------+--------+---------+--------+-------+-----------+\n",
            "|  count|20640.0|  20640.0| 20433.0|  20640.0| 20640.0|20640.0|    20640.0|\n",
            "|   mean|28.6395|2635.7631|537.8706|1425.4767|499.5397| 3.8707|206855.8169|\n",
            "| stddev|12.5856|2181.6153|421.3851|1132.4621|382.3298| 1.8998|115395.6159|\n",
            "|    min|    1.0|      2.0|     1.0|      3.0|     1.0| 0.4999|    14999.0|\n",
            "|    max|   52.0|  39320.0|  6445.0|  35682.0|  6082.0|15.0001|   500001.0|\n",
            "+-------+-------+---------+--------+---------+--------+-------+-----------+\n",
            "\n"
          ]
        }
      ]
    },
    {
      "cell_type": "markdown",
      "source": [
        "**Observations:** The features show broad range of values. Thus, the data need to be normalized."
      ],
      "metadata": {
        "id": "RvmBjMB7EMzj"
      }
    },
    {
      "cell_type": "markdown",
      "source": [
        "#5. Data Processing"
      ],
      "metadata": {
        "id": "OyUhH52JLFmv"
      }
    },
    {
      "cell_type": "markdown",
      "source": [
        "Express medhv (dependent variable) in units of 100,000."
      ],
      "metadata": {
        "id": "f7xMFP8pLdF3"
      }
    },
    {
      "cell_type": "code",
      "source": [
        "df = df.withColumn('medhv', col('medhv')/100000)"
      ],
      "metadata": {
        "id": "Bp6YackbLp_m"
      },
      "execution_count": null,
      "outputs": []
    },
    {
      "cell_type": "markdown",
      "source": [
        "Remove missing values"
      ],
      "metadata": {
        "id": "Lx7hJ1GBNVGL"
      }
    },
    {
      "cell_type": "code",
      "source": [
        "df = df.dropna()\n",
        "df.show(5)"
      ],
      "metadata": {
        "colab": {
          "base_uri": "https://localhost:8080/"
        },
        "id": "E6P9UG0ONGB0",
        "outputId": "ee5d3fbb-a86c-4f0a-90e0-08c2a8fe941a"
      },
      "execution_count": null,
      "outputs": [
        {
          "output_type": "stream",
          "name": "stdout",
          "text": [
            "+-------+-----+------+--------+--------+------+--------+------+-----+\n",
            "|   long|  lat|medage|totrooms|totbdrms|   pop|houshlds|medinc|medhv|\n",
            "+-------+-----+------+--------+--------+------+--------+------+-----+\n",
            "|-122.23|37.88|  41.0|   880.0|   129.0| 322.0|   126.0|8.3252|4.526|\n",
            "|-122.22|37.86|  21.0|  7099.0|  1106.0|2401.0|  1138.0|8.3014|3.585|\n",
            "|-122.24|37.85|  52.0|  1467.0|   190.0| 496.0|   177.0|7.2574|3.521|\n",
            "|-122.25|37.85|  52.0|  1274.0|   235.0| 558.0|   219.0|5.6431|3.413|\n",
            "|-122.25|37.85|  52.0|  1627.0|   280.0| 565.0|   259.0|3.8462|3.422|\n",
            "+-------+-----+------+--------+--------+------+--------+------+-----+\n",
            "only showing top 5 rows\n",
            "\n"
          ]
        }
      ]
    },
    {
      "cell_type": "markdown",
      "source": [
        "#6. Feature Engineering\n",
        "\n",
        "The following columns are added to the dataframe\n",
        "\n",
        "- Rooms per household \n",
        "- Population per household\n",
        "- Bedrooms per room"
      ],
      "metadata": {
        "id": "wFebeLjuPxe9"
      }
    },
    {
      "cell_type": "markdown",
      "source": [
        "Add new columns to dataframe"
      ],
      "metadata": {
        "id": "tmSph778QZri"
      }
    },
    {
      "cell_type": "code",
      "source": [
        "df = (df.withColumn(\"rmsperhh\", F.round(col(\"totrooms\")/col(\"houshlds\"), 2))\n",
        "                       .withColumn(\"popperhh\", F.round(col(\"pop\")/col(\"houshlds\"), 2))\n",
        "                       .withColumn(\"bdrmsperrm\", F.round(col(\"totbdrms\")/col(\"totrooms\"), 2)))"
      ],
      "metadata": {
        "id": "ioco1OwOP0cN"
      },
      "execution_count": null,
      "outputs": []
    },
    {
      "cell_type": "code",
      "source": [
        "df.show(5)"
      ],
      "metadata": {
        "colab": {
          "base_uri": "https://localhost:8080/"
        },
        "id": "xym3Ggw6QjeX",
        "outputId": "dfc16315-fe26-4a0f-bb98-7a7bf90b0b1a"
      },
      "execution_count": null,
      "outputs": [
        {
          "output_type": "stream",
          "name": "stdout",
          "text": [
            "+-------+-----+------+--------+--------+------+--------+------+-----+--------+--------+----------+\n",
            "|   long|  lat|medage|totrooms|totbdrms|   pop|houshlds|medinc|medhv|rmsperhh|popperhh|bdrmsperrm|\n",
            "+-------+-----+------+--------+--------+------+--------+------+-----+--------+--------+----------+\n",
            "|-122.23|37.88|  41.0|   880.0|   129.0| 322.0|   126.0|8.3252|4.526|    6.98|    2.56|      0.15|\n",
            "|-122.22|37.86|  21.0|  7099.0|  1106.0|2401.0|  1138.0|8.3014|3.585|    6.24|    2.11|      0.16|\n",
            "|-122.24|37.85|  52.0|  1467.0|   190.0| 496.0|   177.0|7.2574|3.521|    8.29|     2.8|      0.13|\n",
            "|-122.25|37.85|  52.0|  1274.0|   235.0| 558.0|   219.0|5.6431|3.413|    5.82|    2.55|      0.18|\n",
            "|-122.25|37.85|  52.0|  1627.0|   280.0| 565.0|   259.0|3.8462|3.422|    6.28|    2.18|      0.17|\n",
            "+-------+-----+------+--------+--------+------+--------+------+-----+--------+--------+----------+\n",
            "only showing top 5 rows\n",
            "\n"
          ]
        }
      ]
    },
    {
      "cell_type": "markdown",
      "source": [
        "**Observations:** In the first row, there are 6.98 rooms per household, the households in the block group consist of about 2.56 people and the amount of bedrooms is quite low with 0.14."
      ],
      "metadata": {
        "id": "Wx_-OzBNQyW2"
      }
    },
    {
      "cell_type": "markdown",
      "source": [
        "Reorder and select the columns for model building"
      ],
      "metadata": {
        "id": "-ZXVy5neRCUh"
      }
    },
    {
      "cell_type": "code",
      "source": [
        "df = df.select(\"medhv\", \"totbdrms\", \"pop\", \"houshlds\", \"medinc\", \"rmsperhh\", \"popperhh\", \"bdrmsperrm\")"
      ],
      "metadata": {
        "id": "-rpli0rNRF9l"
      },
      "execution_count": null,
      "outputs": []
    },
    {
      "cell_type": "code",
      "source": [
        "df.show(5)"
      ],
      "metadata": {
        "colab": {
          "base_uri": "https://localhost:8080/"
        },
        "id": "eYZKvnO8Rdo-",
        "outputId": "c00c97eb-d3d8-4670-c94f-6bf1b40437ff"
      },
      "execution_count": null,
      "outputs": [
        {
          "output_type": "stream",
          "name": "stdout",
          "text": [
            "+-----+--------+------+--------+------+--------+--------+----------+\n",
            "|medhv|totbdrms|   pop|houshlds|medinc|rmsperhh|popperhh|bdrmsperrm|\n",
            "+-----+--------+------+--------+------+--------+--------+----------+\n",
            "|4.526|   129.0| 322.0|   126.0|8.3252|    6.98|    2.56|      0.15|\n",
            "|3.585|  1106.0|2401.0|  1138.0|8.3014|    6.24|    2.11|      0.16|\n",
            "|3.521|   190.0| 496.0|   177.0|7.2574|    8.29|     2.8|      0.13|\n",
            "|3.413|   235.0| 558.0|   219.0|5.6431|    5.82|    2.55|      0.18|\n",
            "|3.422|   280.0| 565.0|   259.0|3.8462|    6.28|    2.18|      0.17|\n",
            "+-----+--------+------+--------+------+--------+--------+----------+\n",
            "only showing top 5 rows\n",
            "\n"
          ]
        }
      ]
    },
    {
      "cell_type": "markdown",
      "source": [
        "## 6.1. Normalization\n",
        "\n",
        "Normalize all features except target label"
      ],
      "metadata": {
        "id": "7C7XfGIrRZrX"
      }
    },
    {
      "cell_type": "code",
      "source": [
        "feature_cols = [\"totbdrms\", \"pop\", \"houshlds\", \"medinc\", \"rmsperhh\", \"popperhh\", \"bdrmsperrm\"]"
      ],
      "metadata": {
        "id": "USBEfC0KRnSd"
      },
      "execution_count": null,
      "outputs": []
    },
    {
      "cell_type": "markdown",
      "source": [
        "Use a VectorAssembler to put features into a feature vector column."
      ],
      "metadata": {
        "id": "hczIAlfPR8RJ"
      }
    },
    {
      "cell_type": "code",
      "source": [
        "assembler = VectorAssembler(inputCols=feature_cols, outputCol=\"features\") "
      ],
      "metadata": {
        "id": "ykbAi_IgR96w"
      },
      "execution_count": null,
      "outputs": []
    },
    {
      "cell_type": "code",
      "source": [
        "#Create a new column with the values of the other features in a vector\n",
        "assembled_df = assembler.transform(df)\n",
        "assembled_df.show(10, truncate=False)"
      ],
      "metadata": {
        "colab": {
          "base_uri": "https://localhost:8080/"
        },
        "id": "nJPyA4kPSH-B",
        "outputId": "91dcecf4-d952-4873-f316-86c24a86cf1d"
      },
      "execution_count": null,
      "outputs": [
        {
          "output_type": "stream",
          "name": "stdout",
          "text": [
            "+-----+--------+------+--------+------+--------+--------+----------+-------------------------------------------------------+\n",
            "|medhv|totbdrms|pop   |houshlds|medinc|rmsperhh|popperhh|bdrmsperrm|features                                               |\n",
            "+-----+--------+------+--------+------+--------+--------+----------+-------------------------------------------------------+\n",
            "|4.526|129.0   |322.0 |126.0   |8.3252|6.98    |2.56    |0.15      |[129.0,322.0,126.0,8.325200080871582,6.98,2.56,0.15]   |\n",
            "|3.585|1106.0  |2401.0|1138.0  |8.3014|6.24    |2.11    |0.16      |[1106.0,2401.0,1138.0,8.301400184631348,6.24,2.11,0.16]|\n",
            "|3.521|190.0   |496.0 |177.0   |7.2574|8.29    |2.8     |0.13      |[190.0,496.0,177.0,7.257400035858154,8.29,2.8,0.13]    |\n",
            "|3.413|235.0   |558.0 |219.0   |5.6431|5.82    |2.55    |0.18      |[235.0,558.0,219.0,5.643099784851074,5.82,2.55,0.18]   |\n",
            "|3.422|280.0   |565.0 |259.0   |3.8462|6.28    |2.18    |0.17      |[280.0,565.0,259.0,3.8461999893188477,6.28,2.18,0.17]  |\n",
            "|2.697|213.0   |413.0 |193.0   |4.0368|4.76    |2.14    |0.23      |[213.0,413.0,193.0,4.036799907684326,4.76,2.14,0.23]   |\n",
            "|2.992|489.0   |1094.0|514.0   |3.6591|4.93    |2.13    |0.19      |[489.0,1094.0,514.0,3.65910005569458,4.93,2.13,0.19]   |\n",
            "|2.414|687.0   |1157.0|647.0   |3.12  |4.8     |1.79    |0.22      |[687.0,1157.0,647.0,3.119999885559082,4.8,1.79,0.22]   |\n",
            "|2.267|665.0   |1206.0|595.0   |2.0804|4.29    |2.03    |0.26      |[665.0,1206.0,595.0,2.080399990081787,4.29,2.03,0.26]  |\n",
            "|2.611|707.0   |1551.0|714.0   |3.6912|4.97    |2.17    |0.2       |[707.0,1551.0,714.0,3.691200017929077,4.97,2.17,0.2]   |\n",
            "+-----+--------+------+--------+------+--------+--------+----------+-------------------------------------------------------+\n",
            "only showing top 10 rows\n",
            "\n"
          ]
        }
      ]
    },
    {
      "cell_type": "markdown",
      "source": [
        "The features have been transformed into a Dense Vector wich exception of target label."
      ],
      "metadata": {
        "id": "xpEwBIseSfDN"
      }
    },
    {
      "cell_type": "markdown",
      "source": [
        "## 6.2 Standardization\n",
        "\n",
        "Scale the data using StandardScaler."
      ],
      "metadata": {
        "id": "YhPY3GU0bHGi"
      }
    },
    {
      "cell_type": "code",
      "source": [
        "# Initialize the standardScaler\n",
        "standardScaler = StandardScaler(inputCol=\"features\", outputCol=\"features_scaled\")"
      ],
      "metadata": {
        "id": "KGFJhvR_T0s9"
      },
      "execution_count": null,
      "outputs": []
    },
    {
      "cell_type": "code",
      "source": [
        "# Fit the DataFrame to the scaler\n",
        "scaled_df = standardScaler.fit(assembled_df).transform(assembled_df)\n"
      ],
      "metadata": {
        "id": "XNKOEtDKbbJq"
      },
      "execution_count": null,
      "outputs": []
    },
    {
      "cell_type": "code",
      "source": [
        "scaled_df.show(10)"
      ],
      "metadata": {
        "colab": {
          "base_uri": "https://localhost:8080/"
        },
        "id": "Xnf7MVbnbh0M",
        "outputId": "e50d104b-3670-43cb-efbd-2bb9b1f34cd2"
      },
      "execution_count": null,
      "outputs": [
        {
          "output_type": "stream",
          "name": "stdout",
          "text": [
            "+-----+--------+------+--------+------+--------+--------+----------+--------------------+--------------------+\n",
            "|medhv|totbdrms|   pop|houshlds|medinc|rmsperhh|popperhh|bdrmsperrm|            features|     features_scaled|\n",
            "+-----+--------+------+--------+------+--------+--------+----------+--------------------+--------------------+\n",
            "|4.526|   129.0| 322.0|   126.0|8.3252|    6.98|    2.56|      0.15|[129.0,322.0,126....|[0.30613329508170...|\n",
            "|3.585|  1106.0|2401.0|  1138.0|8.3014|    6.24|    2.11|      0.16|[1106.0,2401.0,11...|[2.62467770821992...|\n",
            "|3.521|   190.0| 496.0|   177.0|7.2574|    8.29|     2.8|      0.13|[190.0,496.0,177....|[0.45089400050794...|\n",
            "|3.413|   235.0| 558.0|   219.0|5.6431|    5.82|    2.55|      0.18|[235.0,558.0,219....|[0.55768468483877...|\n",
            "|3.422|   280.0| 565.0|   259.0|3.8462|    6.28|    2.18|      0.17|[280.0,565.0,259....|[0.66447536916960...|\n",
            "|2.697|   213.0| 413.0|   193.0|4.0368|    4.76|    2.14|      0.23|[213.0,413.0,193....|[0.50547590583258...|\n",
            "|2.992|   489.0|1094.0|   514.0|3.6591|    4.93|    2.13|      0.19|[489.0,1094.0,514...|[1.16045876972833...|\n",
            "|2.414|   687.0|1157.0|   647.0|  3.12|     4.8|    1.79|      0.22|[687.0,1157.0,647...|[1.63033778078398...|\n",
            "|2.267|   665.0|1206.0|   595.0|2.0804|    4.29|    2.03|      0.26|[665.0,1206.0,595...|[1.57812900177780...|\n",
            "|2.611|   707.0|1551.0|   714.0|3.6912|    4.97|    2.17|       0.2|[707.0,1551.0,714...|[1.67780030715324...|\n",
            "+-----+--------+------+--------+------+--------+--------+----------+--------------------+--------------------+\n",
            "only showing top 10 rows\n",
            "\n"
          ]
        }
      ]
    },
    {
      "cell_type": "markdown",
      "source": [
        "#7. Model\n",
        "\n",
        "Split the data into training and test sets using randomSplit() method."
      ],
      "metadata": {
        "id": "N6mmLkVBcFOf"
      }
    },
    {
      "cell_type": "code",
      "source": [
        "train_data, test_data = scaled_df.randomSplit([.8,.2], seed=rnd_seed)"
      ],
      "metadata": {
        "id": "dio0QKbYcV2P"
      },
      "execution_count": null,
      "outputs": []
    },
    {
      "cell_type": "markdown",
      "source": [
        "Create the model using Spark MLlib. ElasticNet is a linear regression model trained with L1 and L2 prior as regularizer. This combination allows for learning a sparse model where few of the weights are non-zero like Lasso, while still maintaining the regularization properties of Ridge. Elastic-net is useful when the dataset contains multiple features which are correlated with one another."
      ],
      "metadata": {
        "id": "_h6gICzbcoPt"
      }
    },
    {
      "cell_type": "code",
      "source": [
        "#Initialize linear regression model\n",
        "lr = (LinearRegression(featuresCol='features_scaled', labelCol='medhv',predictionCol='predmedhv',\n",
        "                       maxIter=10, regParam=0.3, elasticNetParam=0.8, standardization=False))"
      ],
      "metadata": {
        "id": "XbHaRHCddQVm"
      },
      "execution_count": null,
      "outputs": []
    },
    {
      "cell_type": "code",
      "source": [
        "#fit the data\n",
        "linearModel = lr.fit(train_data)"
      ],
      "metadata": {
        "id": "5_iCoGmed4ZP"
      },
      "execution_count": null,
      "outputs": []
    },
    {
      "cell_type": "markdown",
      "source": [
        "#8. Model evaluation\n",
        "##8.1. Model Coefficients"
      ],
      "metadata": {
        "id": "1XPzHMyrhcCE"
      }
    },
    {
      "cell_type": "code",
      "source": [
        "#Model coefficients\n",
        "linearModel.coefficients"
      ],
      "metadata": {
        "colab": {
          "base_uri": "https://localhost:8080/"
        },
        "id": "G0Qz9x0fhxwn",
        "outputId": "ec15e2ae-268e-4830-b89b-5e12efab9a80"
      },
      "execution_count": null,
      "outputs": [
        {
          "output_type": "execute_result",
          "data": {
            "text/plain": [
              "DenseVector([0.0, 0.0, 0.0, 0.5321, 0.0, 0.0, 0.0])"
            ]
          },
          "metadata": {},
          "execution_count": 32
        }
      ]
    },
    {
      "cell_type": "code",
      "source": [
        "feature_cols"
      ],
      "metadata": {
        "colab": {
          "base_uri": "https://localhost:8080/"
        },
        "id": "r_U1039NiGN2",
        "outputId": "83d1bbcf-4609-457a-b42e-53939e5fc963"
      },
      "execution_count": null,
      "outputs": [
        {
          "output_type": "execute_result",
          "data": {
            "text/plain": [
              "['totbdrms', 'pop', 'houshlds', 'medinc', 'rmsperhh', 'popperhh', 'bdrmsperrm']"
            ]
          },
          "metadata": {},
          "execution_count": 33
        }
      ]
    },
    {
      "cell_type": "code",
      "source": [
        "#Model Interceprt\n",
        "linearModel.intercept"
      ],
      "metadata": {
        "colab": {
          "base_uri": "https://localhost:8080/"
        },
        "id": "FrA5DCKJh7jM",
        "outputId": "4528eafb-cf5c-4a35-c8a4-37ad5f3cea14"
      },
      "execution_count": null,
      "outputs": [
        {
          "output_type": "execute_result",
          "data": {
            "text/plain": [
              "0.988630176977603"
            ]
          },
          "metadata": {},
          "execution_count": 34
        }
      ]
    },
    {
      "cell_type": "markdown",
      "source": [
        "Display the coefficients in a dataframe"
      ],
      "metadata": {
        "id": "z4EbOceZiSdx"
      }
    },
    {
      "cell_type": "code",
      "source": [
        "coeff_df = pd.DataFrame({\"Feature\": [\"Intercept\"] + feature_cols, \"Co-efficients\": np.insert(linearModel.coefficients.toArray(), 0, linearModel.intercept)})\n",
        "coeff_df = coeff_df[[\"Feature\", \"Co-efficients\"]]"
      ],
      "metadata": {
        "id": "d_7HWksKiXNH"
      },
      "execution_count": null,
      "outputs": []
    },
    {
      "cell_type": "code",
      "source": [
        "coeff_df"
      ],
      "metadata": {
        "colab": {
          "base_uri": "https://localhost:8080/",
          "height": 300
        },
        "id": "2NlKo-tLibmo",
        "outputId": "c46bc902-51cd-4185-8d29-9e4db98de242"
      },
      "execution_count": null,
      "outputs": [
        {
          "output_type": "execute_result",
          "data": {
            "text/plain": [
              "      Feature  Co-efficients\n",
              "0   Intercept       0.988630\n",
              "1    totbdrms       0.000000\n",
              "2         pop       0.000000\n",
              "3    houshlds       0.000000\n",
              "4      medinc       0.532102\n",
              "5    rmsperhh       0.000000\n",
              "6    popperhh       0.000000\n",
              "7  bdrmsperrm       0.000000"
            ],
            "text/html": [
              "\n",
              "  <div id=\"df-edfe170f-f904-41ed-aced-d2fdbf35f001\">\n",
              "    <div class=\"colab-df-container\">\n",
              "      <div>\n",
              "<style scoped>\n",
              "    .dataframe tbody tr th:only-of-type {\n",
              "        vertical-align: middle;\n",
              "    }\n",
              "\n",
              "    .dataframe tbody tr th {\n",
              "        vertical-align: top;\n",
              "    }\n",
              "\n",
              "    .dataframe thead th {\n",
              "        text-align: right;\n",
              "    }\n",
              "</style>\n",
              "<table border=\"1\" class=\"dataframe\">\n",
              "  <thead>\n",
              "    <tr style=\"text-align: right;\">\n",
              "      <th></th>\n",
              "      <th>Feature</th>\n",
              "      <th>Co-efficients</th>\n",
              "    </tr>\n",
              "  </thead>\n",
              "  <tbody>\n",
              "    <tr>\n",
              "      <th>0</th>\n",
              "      <td>Intercept</td>\n",
              "      <td>0.988630</td>\n",
              "    </tr>\n",
              "    <tr>\n",
              "      <th>1</th>\n",
              "      <td>totbdrms</td>\n",
              "      <td>0.000000</td>\n",
              "    </tr>\n",
              "    <tr>\n",
              "      <th>2</th>\n",
              "      <td>pop</td>\n",
              "      <td>0.000000</td>\n",
              "    </tr>\n",
              "    <tr>\n",
              "      <th>3</th>\n",
              "      <td>houshlds</td>\n",
              "      <td>0.000000</td>\n",
              "    </tr>\n",
              "    <tr>\n",
              "      <th>4</th>\n",
              "      <td>medinc</td>\n",
              "      <td>0.532102</td>\n",
              "    </tr>\n",
              "    <tr>\n",
              "      <th>5</th>\n",
              "      <td>rmsperhh</td>\n",
              "      <td>0.000000</td>\n",
              "    </tr>\n",
              "    <tr>\n",
              "      <th>6</th>\n",
              "      <td>popperhh</td>\n",
              "      <td>0.000000</td>\n",
              "    </tr>\n",
              "    <tr>\n",
              "      <th>7</th>\n",
              "      <td>bdrmsperrm</td>\n",
              "      <td>0.000000</td>\n",
              "    </tr>\n",
              "  </tbody>\n",
              "</table>\n",
              "</div>\n",
              "      <button class=\"colab-df-convert\" onclick=\"convertToInteractive('df-edfe170f-f904-41ed-aced-d2fdbf35f001')\"\n",
              "              title=\"Convert this dataframe to an interactive table.\"\n",
              "              style=\"display:none;\">\n",
              "        \n",
              "  <svg xmlns=\"http://www.w3.org/2000/svg\" height=\"24px\"viewBox=\"0 0 24 24\"\n",
              "       width=\"24px\">\n",
              "    <path d=\"M0 0h24v24H0V0z\" fill=\"none\"/>\n",
              "    <path d=\"M18.56 5.44l.94 2.06.94-2.06 2.06-.94-2.06-.94-.94-2.06-.94 2.06-2.06.94zm-11 1L8.5 8.5l.94-2.06 2.06-.94-2.06-.94L8.5 2.5l-.94 2.06-2.06.94zm10 10l.94 2.06.94-2.06 2.06-.94-2.06-.94-.94-2.06-.94 2.06-2.06.94z\"/><path d=\"M17.41 7.96l-1.37-1.37c-.4-.4-.92-.59-1.43-.59-.52 0-1.04.2-1.43.59L10.3 9.45l-7.72 7.72c-.78.78-.78 2.05 0 2.83L4 21.41c.39.39.9.59 1.41.59.51 0 1.02-.2 1.41-.59l7.78-7.78 2.81-2.81c.8-.78.8-2.07 0-2.86zM5.41 20L4 18.59l7.72-7.72 1.47 1.35L5.41 20z\"/>\n",
              "  </svg>\n",
              "      </button>\n",
              "      \n",
              "  <style>\n",
              "    .colab-df-container {\n",
              "      display:flex;\n",
              "      flex-wrap:wrap;\n",
              "      gap: 12px;\n",
              "    }\n",
              "\n",
              "    .colab-df-convert {\n",
              "      background-color: #E8F0FE;\n",
              "      border: none;\n",
              "      border-radius: 50%;\n",
              "      cursor: pointer;\n",
              "      display: none;\n",
              "      fill: #1967D2;\n",
              "      height: 32px;\n",
              "      padding: 0 0 0 0;\n",
              "      width: 32px;\n",
              "    }\n",
              "\n",
              "    .colab-df-convert:hover {\n",
              "      background-color: #E2EBFA;\n",
              "      box-shadow: 0px 1px 2px rgba(60, 64, 67, 0.3), 0px 1px 3px 1px rgba(60, 64, 67, 0.15);\n",
              "      fill: #174EA6;\n",
              "    }\n",
              "\n",
              "    [theme=dark] .colab-df-convert {\n",
              "      background-color: #3B4455;\n",
              "      fill: #D2E3FC;\n",
              "    }\n",
              "\n",
              "    [theme=dark] .colab-df-convert:hover {\n",
              "      background-color: #434B5C;\n",
              "      box-shadow: 0px 1px 3px 1px rgba(0, 0, 0, 0.15);\n",
              "      filter: drop-shadow(0px 1px 2px rgba(0, 0, 0, 0.3));\n",
              "      fill: #FFFFFF;\n",
              "    }\n",
              "  </style>\n",
              "\n",
              "      <script>\n",
              "        const buttonEl =\n",
              "          document.querySelector('#df-edfe170f-f904-41ed-aced-d2fdbf35f001 button.colab-df-convert');\n",
              "        buttonEl.style.display =\n",
              "          google.colab.kernel.accessAllowed ? 'block' : 'none';\n",
              "\n",
              "        async function convertToInteractive(key) {\n",
              "          const element = document.querySelector('#df-edfe170f-f904-41ed-aced-d2fdbf35f001');\n",
              "          const dataTable =\n",
              "            await google.colab.kernel.invokeFunction('convertToInteractive',\n",
              "                                                     [key], {});\n",
              "          if (!dataTable) return;\n",
              "\n",
              "          const docLinkHtml = 'Like what you see? Visit the ' +\n",
              "            '<a target=\"_blank\" href=https://colab.research.google.com/notebooks/data_table.ipynb>data table notebook</a>'\n",
              "            + ' to learn more about interactive tables.';\n",
              "          element.innerHTML = '';\n",
              "          dataTable['output_type'] = 'display_data';\n",
              "          await google.colab.output.renderOutput(dataTable, element);\n",
              "          const docLink = document.createElement('div');\n",
              "          docLink.innerHTML = docLinkHtml;\n",
              "          element.appendChild(docLink);\n",
              "        }\n",
              "      </script>\n",
              "    </div>\n",
              "  </div>\n",
              "  "
            ]
          },
          "metadata": {},
          "execution_count": 36
        }
      ]
    },
    {
      "cell_type": "markdown",
      "source": [
        "##8.2. Generate Predictions"
      ],
      "metadata": {
        "id": "qPb5ps6gifj3"
      }
    },
    {
      "cell_type": "code",
      "source": [
        "#Generate predictions\n",
        "predictions = linearModel.transform(test_data)"
      ],
      "metadata": {
        "id": "uQXJCQATilQg"
      },
      "execution_count": null,
      "outputs": []
    },
    {
      "cell_type": "code",
      "source": [
        "predictions.show(5)"
      ],
      "metadata": {
        "colab": {
          "base_uri": "https://localhost:8080/"
        },
        "id": "9dPUgOxWjBCI",
        "outputId": "0c43cc9f-861d-415b-9992-0bab03311c8f"
      },
      "execution_count": null,
      "outputs": [
        {
          "output_type": "stream",
          "name": "stdout",
          "text": [
            "+-------+--------+------+--------+------+--------+--------+----------+--------------------+--------------------+------------------+\n",
            "|  medhv|totbdrms|   pop|houshlds|medinc|rmsperhh|popperhh|bdrmsperrm|            features|     features_scaled|         predmedhv|\n",
            "+-------+--------+------+--------+------+--------+--------+----------+--------------------+--------------------+------------------+\n",
            "|0.14999|    28.0|  18.0|     8.0| 0.536|   12.25|    2.25|      0.29|[28.0,18.0,8.0,0....|[0.06644753691696...| 1.138795110285149|\n",
            "|  0.225|   451.0|1230.0|   375.0|1.0918|    2.25|    3.28|      0.53|[451.0,1230.0,375...|[1.07027996962675...|1.2945071662747933|\n",
            "|  0.225|  1743.0|6835.0|  1439.0|2.7138|    6.93|    4.75|      0.17|[1743.0,6835.0,14...|[4.13635917308076...|1.7489241674075027|\n",
            "|  0.269|   543.0|1423.0|   482.0|2.1955|     5.7|    2.95|       0.2|[543.0,1423.0,482...|[1.28860759092533...|1.6037180266005446|\n",
            "|  0.344|   121.0| 530.0|   115.0|2.1458|    3.08|    4.61|      0.34|[121.0,530.0,115....|[0.28714828453400...|1.5897942123047901|\n",
            "+-------+--------+------+--------+------+--------+--------+----------+--------------------+--------------------+------------------+\n",
            "only showing top 5 rows\n",
            "\n"
          ]
        }
      ]
    },
    {
      "cell_type": "code",
      "source": [
        "# Extract the predictions and the correct labels\n",
        "predAndLabels = predictions.select('medhv', 'predmedhv')\n",
        "predAndLabels.show()"
      ],
      "metadata": {
        "colab": {
          "base_uri": "https://localhost:8080/"
        },
        "id": "ztoaIXoGi1Ax",
        "outputId": "c05b1f33-2d1d-430f-f441-e1ea73054442"
      },
      "execution_count": null,
      "outputs": [
        {
          "output_type": "stream",
          "name": "stdout",
          "text": [
            "+-------+------------------+\n",
            "|  medhv|         predmedhv|\n",
            "+-------+------------------+\n",
            "|0.14999| 1.138795110285149|\n",
            "|  0.225|1.2945071662747933|\n",
            "|  0.225|1.7489241674075027|\n",
            "|  0.269|1.6037180266005446|\n",
            "|  0.344|1.5897942123047901|\n",
            "|  0.367|1.2824043167165895|\n",
            "|  0.375| 1.864125335367453|\n",
            "|  0.394|1.3609327363749195|\n",
            "|  0.398|1.5239289184946858|\n",
            "|  0.409|1.5653643492363898|\n",
            "|  0.417|1.3171999924976807|\n",
            "|  0.425|1.2198169364407725|\n",
            "|  0.425|1.4770023726613912|\n",
            "|   0.43|1.3423302343260983|\n",
            "|  0.436|1.2521752300138236|\n",
            "|   0.44|1.3261931015818265|\n",
            "|   0.44|1.4761058838408705|\n",
            "|  0.444|1.4259855360515208|\n",
            "|  0.445|1.3606245777359096|\n",
            "|  0.446|1.4679532559867374|\n",
            "+-------+------------------+\n",
            "only showing top 20 rows\n",
            "\n"
          ]
        }
      ]
    },
    {
      "cell_type": "markdown",
      "source": [
        "## 8.3. Metrics\n",
        "\n",
        "Use the LinearRegressionModel.summary attribute."
      ],
      "metadata": {
        "id": "7W3XwRbljZ1z"
      }
    },
    {
      "cell_type": "code",
      "source": [
        "# Get RMSE\n",
        "print(\"RMSE: {0}\".format(linearModel.summary.rootMeanSquaredError))\n",
        "\n",
        "# Get MAE\n",
        "print(\"MAE: {0}\".format(linearModel.summary.meanAbsoluteError))\n",
        "\n",
        "# Get R2\n",
        "print(\"R2: {0}\".format(linearModel.summary.r2))"
      ],
      "metadata": {
        "colab": {
          "base_uri": "https://localhost:8080/"
        },
        "id": "9swy7hrXj25F",
        "outputId": "9bfc9520-ef4a-44bc-8361-dcf5d9c7fd83"
      },
      "execution_count": null,
      "outputs": [
        {
          "output_type": "stream",
          "name": "stdout",
          "text": [
            "RMSE: 0.8782126577044576\n",
            "MAE: 0.6755195518932324\n",
            "R2: 0.423891934990161\n"
          ]
        }
      ]
    },
    {
      "cell_type": "markdown",
      "source": [
        "Use the RegressionEvaluator from pyspark.ml package."
      ],
      "metadata": {
        "id": "r3z7Yv-ZkKum"
      }
    },
    {
      "cell_type": "code",
      "source": [
        "# Get RMSE\n",
        "evaluator = RegressionEvaluator(predictionCol=\"predmedhv\", labelCol='medhv', metricName='rmse')\n",
        "print(\"RMSE: {0}\".format(evaluator.evaluate(predAndLabels)))\n",
        "\n",
        "# Get MAE\n",
        "evaluator = RegressionEvaluator(predictionCol=\"predmedhv\", labelCol='medhv', metricName='mae')\n",
        "print(\"MAE: {0}\".format(evaluator.evaluate(predAndLabels)))\n",
        "\n",
        "# Get R2\n",
        "evaluator = RegressionEvaluator(predictionCol=\"predmedhv\", labelCol='medhv', metricName='r2')\n",
        "print(\"R2: {0}\".format(evaluator.evaluate(predAndLabels)))"
      ],
      "metadata": {
        "colab": {
          "base_uri": "https://localhost:8080/"
        },
        "id": "ofAoUUozkcJy",
        "outputId": "e4adefaa-f691-492a-f83e-b25833714524"
      },
      "execution_count": null,
      "outputs": [
        {
          "output_type": "stream",
          "name": "stdout",
          "text": [
            "RMSE: 0.8747210883194528\n",
            "MAE: 0.6754015223732088\n",
            "R2: 0.4144337498792193\n"
          ]
        }
      ]
    },
    {
      "cell_type": "code",
      "source": [
        "spark.stop()"
      ],
      "metadata": {
        "id": "OJrySNq1lYv2"
      },
      "execution_count": null,
      "outputs": []
    },
    {
      "cell_type": "markdown",
      "source": [
        "###Credits\n",
        "- [SUSHANT PATIL](https://www.kaggle.com/code/sushantpatil04/pyspark-tutorial-1-pyspark-tutorial-beginner)"
      ],
      "metadata": {
        "id": "jcmHYLtanxqP"
      }
    }
  ]
}